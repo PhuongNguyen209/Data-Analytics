{
 "cells": [
  {
   "cell_type": "code",
   "execution_count": 73,
   "metadata": {},
   "outputs": [],
   "source": [
    "# Import lib\n",
    "import numpy as np\n",
    "import pandas as pd\n",
    "import plotly.express as px\n",
    "import plotly.graph_objects as go"
   ]
  },
  {
   "cell_type": "markdown",
   "metadata": {},
   "source": [
    "1.Load data"
   ]
  },
  {
   "cell_type": "code",
   "execution_count": 74,
   "metadata": {},
   "outputs": [
    {
     "data": {
      "text/html": [
       "<div>\n",
       "<style scoped>\n",
       "    .dataframe tbody tr th:only-of-type {\n",
       "        vertical-align: middle;\n",
       "    }\n",
       "\n",
       "    .dataframe tbody tr th {\n",
       "        vertical-align: top;\n",
       "    }\n",
       "\n",
       "    .dataframe thead th {\n",
       "        text-align: right;\n",
       "    }\n",
       "</style>\n",
       "<table border=\"1\" class=\"dataframe\">\n",
       "  <thead>\n",
       "    <tr style=\"text-align: right;\">\n",
       "      <th></th>\n",
       "      <th>Date</th>\n",
       "      <th>Location</th>\n",
       "      <th>Positive</th>\n",
       "      <th>Tested</th>\n",
       "      <th>Symptomatic</th>\n",
       "      <th>Asymptomatic</th>\n",
       "      <th>Sym-unknown</th>\n",
       "      <th>Hosp_require</th>\n",
       "      <th>Hosp_mild</th>\n",
       "      <th>Hosp_severe</th>\n",
       "      <th>Hosp_unknown</th>\n",
       "      <th>Hosp_waiting</th>\n",
       "      <th>Discharged</th>\n",
       "      <th>Fatal</th>\n",
       "      <th>Vaccinated_1st</th>\n",
       "      <th>Vaccinated_2nd</th>\n",
       "    </tr>\n",
       "  </thead>\n",
       "  <tbody>\n",
       "    <tr>\n",
       "      <th>0</th>\n",
       "      <td>2020-02-06</td>\n",
       "      <td>Domestic</td>\n",
       "      <td>16</td>\n",
       "      <td>132.0</td>\n",
       "      <td>16.0</td>\n",
       "      <td>0.0</td>\n",
       "      <td>0.0</td>\n",
       "      <td>NaN</td>\n",
       "      <td>9.0</td>\n",
       "      <td>0</td>\n",
       "      <td>3.0</td>\n",
       "      <td>0.0</td>\n",
       "      <td>4</td>\n",
       "      <td>0</td>\n",
       "      <td>NaN</td>\n",
       "      <td>NaN</td>\n",
       "    </tr>\n",
       "    <tr>\n",
       "      <th>1</th>\n",
       "      <td>2020-02-06</td>\n",
       "      <td>Returnee</td>\n",
       "      <td>9</td>\n",
       "      <td>566.0</td>\n",
       "      <td>5.0</td>\n",
       "      <td>4.0</td>\n",
       "      <td>0.0</td>\n",
       "      <td>NaN</td>\n",
       "      <td>3.0</td>\n",
       "      <td>0</td>\n",
       "      <td>2.0</td>\n",
       "      <td>0.0</td>\n",
       "      <td>0</td>\n",
       "      <td>0</td>\n",
       "      <td>NaN</td>\n",
       "      <td>NaN</td>\n",
       "    </tr>\n",
       "    <tr>\n",
       "      <th>2</th>\n",
       "      <td>2020-02-07</td>\n",
       "      <td>Domestic</td>\n",
       "      <td>16</td>\n",
       "      <td>151.0</td>\n",
       "      <td>16.0</td>\n",
       "      <td>0.0</td>\n",
       "      <td>0.0</td>\n",
       "      <td>NaN</td>\n",
       "      <td>12.0</td>\n",
       "      <td>0</td>\n",
       "      <td>0.0</td>\n",
       "      <td>0.0</td>\n",
       "      <td>4</td>\n",
       "      <td>0</td>\n",
       "      <td>NaN</td>\n",
       "      <td>NaN</td>\n",
       "    </tr>\n",
       "    <tr>\n",
       "      <th>3</th>\n",
       "      <td>2020-02-07</td>\n",
       "      <td>Returnee</td>\n",
       "      <td>9</td>\n",
       "      <td>566.0</td>\n",
       "      <td>6.0</td>\n",
       "      <td>3.0</td>\n",
       "      <td>0.0</td>\n",
       "      <td>NaN</td>\n",
       "      <td>4.0</td>\n",
       "      <td>0</td>\n",
       "      <td>2.0</td>\n",
       "      <td>0.0</td>\n",
       "      <td>0</td>\n",
       "      <td>0</td>\n",
       "      <td>NaN</td>\n",
       "      <td>NaN</td>\n",
       "    </tr>\n",
       "    <tr>\n",
       "      <th>4</th>\n",
       "      <td>2020-02-10</td>\n",
       "      <td>Domestic</td>\n",
       "      <td>16</td>\n",
       "      <td>174.0</td>\n",
       "      <td>16.0</td>\n",
       "      <td>0.0</td>\n",
       "      <td>0.0</td>\n",
       "      <td>NaN</td>\n",
       "      <td>7.0</td>\n",
       "      <td>0</td>\n",
       "      <td>0.0</td>\n",
       "      <td>0.0</td>\n",
       "      <td>9</td>\n",
       "      <td>0</td>\n",
       "      <td>NaN</td>\n",
       "      <td>NaN</td>\n",
       "    </tr>\n",
       "  </tbody>\n",
       "</table>\n",
       "</div>"
      ],
      "text/plain": [
       "         Date  Location  Positive  Tested  Symptomatic  Asymptomatic  \\\n",
       "0  2020-02-06  Domestic        16   132.0         16.0           0.0   \n",
       "1  2020-02-06  Returnee         9   566.0          5.0           4.0   \n",
       "2  2020-02-07  Domestic        16   151.0         16.0           0.0   \n",
       "3  2020-02-07  Returnee         9   566.0          6.0           3.0   \n",
       "4  2020-02-10  Domestic        16   174.0         16.0           0.0   \n",
       "\n",
       "   Sym-unknown  Hosp_require  Hosp_mild  Hosp_severe  Hosp_unknown  \\\n",
       "0          0.0           NaN        9.0            0           3.0   \n",
       "1          0.0           NaN        3.0            0           2.0   \n",
       "2          0.0           NaN       12.0            0           0.0   \n",
       "3          0.0           NaN        4.0            0           2.0   \n",
       "4          0.0           NaN        7.0            0           0.0   \n",
       "\n",
       "   Hosp_waiting  Discharged  Fatal  Vaccinated_1st  Vaccinated_2nd  \n",
       "0           0.0           4      0             NaN             NaN  \n",
       "1           0.0           0      0             NaN             NaN  \n",
       "2           0.0           4      0             NaN             NaN  \n",
       "3           0.0           0      0             NaN             NaN  \n",
       "4           0.0           9      0             NaN             NaN  "
      ]
     },
     "execution_count": 74,
     "metadata": {},
     "output_type": "execute_result"
    }
   ],
   "source": [
    "df_data= pd.read_csv('covid_jpn_total.csv')\n",
    "df_data.head()"
   ]
  },
  {
   "cell_type": "markdown",
   "metadata": {},
   "source": [
    "2. Data cleaning"
   ]
  },
  {
   "cell_type": "code",
   "execution_count": 75,
   "metadata": {},
   "outputs": [],
   "source": [
    "# copy original data\n",
    "df_clean= df_data.copy()"
   ]
  },
  {
   "cell_type": "code",
   "execution_count": 76,
   "metadata": {},
   "outputs": [],
   "source": [
    "# remove rows which have all values are null or missing\n",
    "df_clean.dropna(how= 'all', inplace= True)"
   ]
  },
  {
   "cell_type": "code",
   "execution_count": 77,
   "metadata": {},
   "outputs": [
    {
     "data": {
      "text/html": [
       "<div>\n",
       "<style scoped>\n",
       "    .dataframe tbody tr th:only-of-type {\n",
       "        vertical-align: middle;\n",
       "    }\n",
       "\n",
       "    .dataframe tbody tr th {\n",
       "        vertical-align: top;\n",
       "    }\n",
       "\n",
       "    .dataframe thead th {\n",
       "        text-align: right;\n",
       "    }\n",
       "</style>\n",
       "<table border=\"1\" class=\"dataframe\">\n",
       "  <thead>\n",
       "    <tr style=\"text-align: right;\">\n",
       "      <th></th>\n",
       "      <th>Date</th>\n",
       "      <th>Location</th>\n",
       "      <th>Positive</th>\n",
       "      <th>Tested</th>\n",
       "      <th>Hosp_require</th>\n",
       "      <th>Hosp_severe</th>\n",
       "      <th>Discharged</th>\n",
       "      <th>Fatal</th>\n",
       "    </tr>\n",
       "  </thead>\n",
       "  <tbody>\n",
       "    <tr>\n",
       "      <th>0</th>\n",
       "      <td>2020-02-06</td>\n",
       "      <td>Domestic</td>\n",
       "      <td>16</td>\n",
       "      <td>132.0</td>\n",
       "      <td>NaN</td>\n",
       "      <td>0</td>\n",
       "      <td>4</td>\n",
       "      <td>0</td>\n",
       "    </tr>\n",
       "    <tr>\n",
       "      <th>1</th>\n",
       "      <td>2020-02-06</td>\n",
       "      <td>Returnee</td>\n",
       "      <td>9</td>\n",
       "      <td>566.0</td>\n",
       "      <td>NaN</td>\n",
       "      <td>0</td>\n",
       "      <td>0</td>\n",
       "      <td>0</td>\n",
       "    </tr>\n",
       "    <tr>\n",
       "      <th>2</th>\n",
       "      <td>2020-02-07</td>\n",
       "      <td>Domestic</td>\n",
       "      <td>16</td>\n",
       "      <td>151.0</td>\n",
       "      <td>NaN</td>\n",
       "      <td>0</td>\n",
       "      <td>4</td>\n",
       "      <td>0</td>\n",
       "    </tr>\n",
       "    <tr>\n",
       "      <th>3</th>\n",
       "      <td>2020-02-07</td>\n",
       "      <td>Returnee</td>\n",
       "      <td>9</td>\n",
       "      <td>566.0</td>\n",
       "      <td>NaN</td>\n",
       "      <td>0</td>\n",
       "      <td>0</td>\n",
       "      <td>0</td>\n",
       "    </tr>\n",
       "    <tr>\n",
       "      <th>4</th>\n",
       "      <td>2020-02-10</td>\n",
       "      <td>Domestic</td>\n",
       "      <td>16</td>\n",
       "      <td>174.0</td>\n",
       "      <td>NaN</td>\n",
       "      <td>0</td>\n",
       "      <td>9</td>\n",
       "      <td>0</td>\n",
       "    </tr>\n",
       "  </tbody>\n",
       "</table>\n",
       "</div>"
      ],
      "text/plain": [
       "         Date  Location  Positive  Tested  Hosp_require  Hosp_severe  \\\n",
       "0  2020-02-06  Domestic        16   132.0           NaN            0   \n",
       "1  2020-02-06  Returnee         9   566.0           NaN            0   \n",
       "2  2020-02-07  Domestic        16   151.0           NaN            0   \n",
       "3  2020-02-07  Returnee         9   566.0           NaN            0   \n",
       "4  2020-02-10  Domestic        16   174.0           NaN            0   \n",
       "\n",
       "   Discharged  Fatal  \n",
       "0           4      0  \n",
       "1           0      0  \n",
       "2           4      0  \n",
       "3           0      0  \n",
       "4           9      0  "
      ]
     },
     "execution_count": 77,
     "metadata": {},
     "output_type": "execute_result"
    }
   ],
   "source": [
    "# remove all features which have missing values > 50%\n",
    "df_clean.drop(['Symptomatic', 'Asymptomatic', 'Sym-unknown', 'Hosp_mild', 'Hosp_unknown', 'Hosp_waiting', 'Vaccinated_1st', 'Vaccinated_2nd'], axis= 1, inplace= True)\n",
    "df_clean.head()"
   ]
  },
  {
   "cell_type": "code",
   "execution_count": 78,
   "metadata": {},
   "outputs": [
    {
     "data": {
      "text/html": [
       "<div>\n",
       "<style scoped>\n",
       "    .dataframe tbody tr th:only-of-type {\n",
       "        vertical-align: middle;\n",
       "    }\n",
       "\n",
       "    .dataframe tbody tr th {\n",
       "        vertical-align: top;\n",
       "    }\n",
       "\n",
       "    .dataframe thead th {\n",
       "        text-align: right;\n",
       "    }\n",
       "</style>\n",
       "<table border=\"1\" class=\"dataframe\">\n",
       "  <thead>\n",
       "    <tr style=\"text-align: right;\">\n",
       "      <th></th>\n",
       "      <th>Date</th>\n",
       "      <th>Location</th>\n",
       "      <th>Positive</th>\n",
       "      <th>Tested</th>\n",
       "      <th>Hospitalization</th>\n",
       "      <th>Severe</th>\n",
       "      <th>Discharged</th>\n",
       "      <th>Deaths</th>\n",
       "    </tr>\n",
       "  </thead>\n",
       "  <tbody>\n",
       "    <tr>\n",
       "      <th>0</th>\n",
       "      <td>2020-02-06</td>\n",
       "      <td>Domestic</td>\n",
       "      <td>16</td>\n",
       "      <td>132.0</td>\n",
       "      <td>NaN</td>\n",
       "      <td>0</td>\n",
       "      <td>4</td>\n",
       "      <td>0</td>\n",
       "    </tr>\n",
       "    <tr>\n",
       "      <th>1</th>\n",
       "      <td>2020-02-06</td>\n",
       "      <td>Returnee</td>\n",
       "      <td>9</td>\n",
       "      <td>566.0</td>\n",
       "      <td>NaN</td>\n",
       "      <td>0</td>\n",
       "      <td>0</td>\n",
       "      <td>0</td>\n",
       "    </tr>\n",
       "    <tr>\n",
       "      <th>2</th>\n",
       "      <td>2020-02-07</td>\n",
       "      <td>Domestic</td>\n",
       "      <td>16</td>\n",
       "      <td>151.0</td>\n",
       "      <td>NaN</td>\n",
       "      <td>0</td>\n",
       "      <td>4</td>\n",
       "      <td>0</td>\n",
       "    </tr>\n",
       "    <tr>\n",
       "      <th>3</th>\n",
       "      <td>2020-02-07</td>\n",
       "      <td>Returnee</td>\n",
       "      <td>9</td>\n",
       "      <td>566.0</td>\n",
       "      <td>NaN</td>\n",
       "      <td>0</td>\n",
       "      <td>0</td>\n",
       "      <td>0</td>\n",
       "    </tr>\n",
       "    <tr>\n",
       "      <th>4</th>\n",
       "      <td>2020-02-10</td>\n",
       "      <td>Domestic</td>\n",
       "      <td>16</td>\n",
       "      <td>174.0</td>\n",
       "      <td>NaN</td>\n",
       "      <td>0</td>\n",
       "      <td>9</td>\n",
       "      <td>0</td>\n",
       "    </tr>\n",
       "  </tbody>\n",
       "</table>\n",
       "</div>"
      ],
      "text/plain": [
       "         Date  Location  Positive  Tested  Hospitalization  Severe  \\\n",
       "0  2020-02-06  Domestic        16   132.0              NaN       0   \n",
       "1  2020-02-06  Returnee         9   566.0              NaN       0   \n",
       "2  2020-02-07  Domestic        16   151.0              NaN       0   \n",
       "3  2020-02-07  Returnee         9   566.0              NaN       0   \n",
       "4  2020-02-10  Domestic        16   174.0              NaN       0   \n",
       "\n",
       "   Discharged  Deaths  \n",
       "0           4       0  \n",
       "1           0       0  \n",
       "2           4       0  \n",
       "3           0       0  \n",
       "4           9       0  "
      ]
     },
     "execution_count": 78,
     "metadata": {},
     "output_type": "execute_result"
    }
   ],
   "source": [
    "# rename some features for meaningful\n",
    "df_clean= df_clean.rename(columns= {'Fatal': 'Deaths', 'Hosp_require': 'Hospitalization', 'Hosp_severe': 'Severe'})\n",
    "df_clean.head()"
   ]
  },
  {
   "cell_type": "code",
   "execution_count": 79,
   "metadata": {},
   "outputs": [
    {
     "data": {
      "text/html": [
       "<div>\n",
       "<style scoped>\n",
       "    .dataframe tbody tr th:only-of-type {\n",
       "        vertical-align: middle;\n",
       "    }\n",
       "\n",
       "    .dataframe tbody tr th {\n",
       "        vertical-align: top;\n",
       "    }\n",
       "\n",
       "    .dataframe thead th {\n",
       "        text-align: right;\n",
       "    }\n",
       "</style>\n",
       "<table border=\"1\" class=\"dataframe\">\n",
       "  <thead>\n",
       "    <tr style=\"text-align: right;\">\n",
       "      <th></th>\n",
       "      <th>Date</th>\n",
       "      <th>Location</th>\n",
       "      <th>Positive</th>\n",
       "      <th>Tested</th>\n",
       "      <th>Hospitalization</th>\n",
       "      <th>Severe</th>\n",
       "      <th>Discharged</th>\n",
       "      <th>Deaths</th>\n",
       "    </tr>\n",
       "  </thead>\n",
       "  <tbody>\n",
       "    <tr>\n",
       "      <th>0</th>\n",
       "      <td>2020-02-06</td>\n",
       "      <td>Domestic</td>\n",
       "      <td>16</td>\n",
       "      <td>132.0</td>\n",
       "      <td>NaN</td>\n",
       "      <td>0</td>\n",
       "      <td>4</td>\n",
       "      <td>0</td>\n",
       "    </tr>\n",
       "    <tr>\n",
       "      <th>1</th>\n",
       "      <td>2020-02-06</td>\n",
       "      <td>Returnee</td>\n",
       "      <td>9</td>\n",
       "      <td>566.0</td>\n",
       "      <td>NaN</td>\n",
       "      <td>0</td>\n",
       "      <td>0</td>\n",
       "      <td>0</td>\n",
       "    </tr>\n",
       "    <tr>\n",
       "      <th>2</th>\n",
       "      <td>2020-02-07</td>\n",
       "      <td>Domestic</td>\n",
       "      <td>16</td>\n",
       "      <td>151.0</td>\n",
       "      <td>NaN</td>\n",
       "      <td>0</td>\n",
       "      <td>4</td>\n",
       "      <td>0</td>\n",
       "    </tr>\n",
       "    <tr>\n",
       "      <th>3</th>\n",
       "      <td>2020-02-07</td>\n",
       "      <td>Returnee</td>\n",
       "      <td>9</td>\n",
       "      <td>566.0</td>\n",
       "      <td>NaN</td>\n",
       "      <td>0</td>\n",
       "      <td>0</td>\n",
       "      <td>0</td>\n",
       "    </tr>\n",
       "    <tr>\n",
       "      <th>4</th>\n",
       "      <td>2020-02-10</td>\n",
       "      <td>Domestic</td>\n",
       "      <td>16</td>\n",
       "      <td>174.0</td>\n",
       "      <td>NaN</td>\n",
       "      <td>0</td>\n",
       "      <td>9</td>\n",
       "      <td>0</td>\n",
       "    </tr>\n",
       "  </tbody>\n",
       "</table>\n",
       "</div>"
      ],
      "text/plain": [
       "        Date  Location  Positive  Tested  Hospitalization  Severe  Discharged  \\\n",
       "0 2020-02-06  Domestic        16   132.0              NaN       0           4   \n",
       "1 2020-02-06  Returnee         9   566.0              NaN       0           0   \n",
       "2 2020-02-07  Domestic        16   151.0              NaN       0           4   \n",
       "3 2020-02-07  Returnee         9   566.0              NaN       0           0   \n",
       "4 2020-02-10  Domestic        16   174.0              NaN       0           9   \n",
       "\n",
       "   Deaths  \n",
       "0       0  \n",
       "1       0  \n",
       "2       0  \n",
       "3       0  \n",
       "4       0  "
      ]
     },
     "execution_count": 79,
     "metadata": {},
     "output_type": "execute_result"
    }
   ],
   "source": [
    "# convert date column to datetime type\n",
    "df_clean['Date']= pd.to_datetime(df_clean['Date'])\n",
    "df_clean.head()"
   ]
  },
  {
   "cell_type": "code",
   "execution_count": 80,
   "metadata": {},
   "outputs": [
    {
     "data": {
      "text/html": [
       "<div>\n",
       "<style scoped>\n",
       "    .dataframe tbody tr th:only-of-type {\n",
       "        vertical-align: middle;\n",
       "    }\n",
       "\n",
       "    .dataframe tbody tr th {\n",
       "        vertical-align: top;\n",
       "    }\n",
       "\n",
       "    .dataframe thead th {\n",
       "        text-align: right;\n",
       "    }\n",
       "</style>\n",
       "<table border=\"1\" class=\"dataframe\">\n",
       "  <thead>\n",
       "    <tr style=\"text-align: right;\">\n",
       "      <th></th>\n",
       "      <th></th>\n",
       "      <th>Location</th>\n",
       "      <th>Positive</th>\n",
       "      <th>Tested</th>\n",
       "      <th>Hospitalization</th>\n",
       "      <th>Severe</th>\n",
       "      <th>Discharged</th>\n",
       "      <th>Deaths</th>\n",
       "    </tr>\n",
       "    <tr>\n",
       "      <th>Location</th>\n",
       "      <th>Date</th>\n",
       "      <th></th>\n",
       "      <th></th>\n",
       "      <th></th>\n",
       "      <th></th>\n",
       "      <th></th>\n",
       "      <th></th>\n",
       "      <th></th>\n",
       "    </tr>\n",
       "  </thead>\n",
       "  <tbody>\n",
       "    <tr>\n",
       "      <th rowspan=\"5\" valign=\"top\">Airport</th>\n",
       "      <th>2020-03-05</th>\n",
       "      <td>Airport</td>\n",
       "      <td>1.0</td>\n",
       "      <td>NaN</td>\n",
       "      <td>NaN</td>\n",
       "      <td>0.0</td>\n",
       "      <td>0.0</td>\n",
       "      <td>0.0</td>\n",
       "    </tr>\n",
       "    <tr>\n",
       "      <th>2020-03-06</th>\n",
       "      <td>Airport</td>\n",
       "      <td>1.0</td>\n",
       "      <td>NaN</td>\n",
       "      <td>NaN</td>\n",
       "      <td>0.0</td>\n",
       "      <td>0.0</td>\n",
       "      <td>0.0</td>\n",
       "    </tr>\n",
       "    <tr>\n",
       "      <th>2020-03-07</th>\n",
       "      <td>Airport</td>\n",
       "      <td>1.0</td>\n",
       "      <td>NaN</td>\n",
       "      <td>NaN</td>\n",
       "      <td>0.0</td>\n",
       "      <td>0.0</td>\n",
       "      <td>0.0</td>\n",
       "    </tr>\n",
       "    <tr>\n",
       "      <th>2020-03-08</th>\n",
       "      <td>Airport</td>\n",
       "      <td>1.0</td>\n",
       "      <td>NaN</td>\n",
       "      <td>NaN</td>\n",
       "      <td>0.0</td>\n",
       "      <td>0.0</td>\n",
       "      <td>0.0</td>\n",
       "    </tr>\n",
       "    <tr>\n",
       "      <th>2020-03-09</th>\n",
       "      <td>Airport</td>\n",
       "      <td>1.0</td>\n",
       "      <td>NaN</td>\n",
       "      <td>NaN</td>\n",
       "      <td>0.0</td>\n",
       "      <td>0.0</td>\n",
       "      <td>0.0</td>\n",
       "    </tr>\n",
       "    <tr>\n",
       "      <th>...</th>\n",
       "      <th>...</th>\n",
       "      <td>...</td>\n",
       "      <td>...</td>\n",
       "      <td>...</td>\n",
       "      <td>...</td>\n",
       "      <td>...</td>\n",
       "      <td>...</td>\n",
       "      <td>...</td>\n",
       "    </tr>\n",
       "    <tr>\n",
       "      <th rowspan=\"5\" valign=\"top\">Returnee</th>\n",
       "      <th>2021-08-18</th>\n",
       "      <td>Returnee</td>\n",
       "      <td>15.0</td>\n",
       "      <td>829.0</td>\n",
       "      <td>0.0</td>\n",
       "      <td>0.0</td>\n",
       "      <td>15.0</td>\n",
       "      <td>0.0</td>\n",
       "    </tr>\n",
       "    <tr>\n",
       "      <th>2021-08-19</th>\n",
       "      <td>Returnee</td>\n",
       "      <td>15.0</td>\n",
       "      <td>829.0</td>\n",
       "      <td>0.0</td>\n",
       "      <td>0.0</td>\n",
       "      <td>15.0</td>\n",
       "      <td>0.0</td>\n",
       "    </tr>\n",
       "    <tr>\n",
       "      <th>2021-08-20</th>\n",
       "      <td>Returnee</td>\n",
       "      <td>15.0</td>\n",
       "      <td>829.0</td>\n",
       "      <td>0.0</td>\n",
       "      <td>0.0</td>\n",
       "      <td>15.0</td>\n",
       "      <td>0.0</td>\n",
       "    </tr>\n",
       "    <tr>\n",
       "      <th>2021-08-21</th>\n",
       "      <td>Returnee</td>\n",
       "      <td>15.0</td>\n",
       "      <td>829.0</td>\n",
       "      <td>0.0</td>\n",
       "      <td>0.0</td>\n",
       "      <td>15.0</td>\n",
       "      <td>0.0</td>\n",
       "    </tr>\n",
       "    <tr>\n",
       "      <th>2021-08-22</th>\n",
       "      <td>Returnee</td>\n",
       "      <td>15.0</td>\n",
       "      <td>829.0</td>\n",
       "      <td>0.0</td>\n",
       "      <td>0.0</td>\n",
       "      <td>15.0</td>\n",
       "      <td>0.0</td>\n",
       "    </tr>\n",
       "  </tbody>\n",
       "</table>\n",
       "<p>1664 rows × 7 columns</p>\n",
       "</div>"
      ],
      "text/plain": [
       "                     Location  Positive  Tested  Hospitalization  Severe  \\\n",
       "Location Date                                                              \n",
       "Airport  2020-03-05   Airport       1.0     NaN              NaN     0.0   \n",
       "         2020-03-06   Airport       1.0     NaN              NaN     0.0   \n",
       "         2020-03-07   Airport       1.0     NaN              NaN     0.0   \n",
       "         2020-03-08   Airport       1.0     NaN              NaN     0.0   \n",
       "         2020-03-09   Airport       1.0     NaN              NaN     0.0   \n",
       "...                       ...       ...     ...              ...     ...   \n",
       "Returnee 2021-08-18  Returnee      15.0   829.0              0.0     0.0   \n",
       "         2021-08-19  Returnee      15.0   829.0              0.0     0.0   \n",
       "         2021-08-20  Returnee      15.0   829.0              0.0     0.0   \n",
       "         2021-08-21  Returnee      15.0   829.0              0.0     0.0   \n",
       "         2021-08-22  Returnee      15.0   829.0              0.0     0.0   \n",
       "\n",
       "                     Discharged  Deaths  \n",
       "Location Date                            \n",
       "Airport  2020-03-05         0.0     0.0  \n",
       "         2020-03-06         0.0     0.0  \n",
       "         2020-03-07         0.0     0.0  \n",
       "         2020-03-08         0.0     0.0  \n",
       "         2020-03-09         0.0     0.0  \n",
       "...                         ...     ...  \n",
       "Returnee 2021-08-18        15.0     0.0  \n",
       "         2021-08-19        15.0     0.0  \n",
       "         2021-08-20        15.0     0.0  \n",
       "         2021-08-21        15.0     0.0  \n",
       "         2021-08-22        15.0     0.0  \n",
       "\n",
       "[1664 rows x 7 columns]"
      ]
     },
     "execution_count": 80,
     "metadata": {},
     "output_type": "execute_result"
    }
   ],
   "source": [
    "# resample data to date level (add date if it's miss)\n",
    "df_clean= df_clean.groupby('Location').apply(\n",
    "    lambda x: x.set_index('Date').resample('D').interpolate('linear')\n",
    ")\n",
    "df_clean"
   ]
  },
  {
   "cell_type": "code",
   "execution_count": 81,
   "metadata": {},
   "outputs": [
    {
     "data": {
      "text/html": [
       "<div>\n",
       "<style scoped>\n",
       "    .dataframe tbody tr th:only-of-type {\n",
       "        vertical-align: middle;\n",
       "    }\n",
       "\n",
       "    .dataframe tbody tr th {\n",
       "        vertical-align: top;\n",
       "    }\n",
       "\n",
       "    .dataframe thead th {\n",
       "        text-align: right;\n",
       "    }\n",
       "</style>\n",
       "<table border=\"1\" class=\"dataframe\">\n",
       "  <thead>\n",
       "    <tr style=\"text-align: right;\">\n",
       "      <th></th>\n",
       "      <th>Location</th>\n",
       "      <th>Date</th>\n",
       "      <th>Positive</th>\n",
       "      <th>Tested</th>\n",
       "      <th>Hospitalization</th>\n",
       "      <th>Severe</th>\n",
       "      <th>Discharged</th>\n",
       "      <th>Deaths</th>\n",
       "    </tr>\n",
       "  </thead>\n",
       "  <tbody>\n",
       "    <tr>\n",
       "      <th>0</th>\n",
       "      <td>Airport</td>\n",
       "      <td>2020-03-05</td>\n",
       "      <td>1.0</td>\n",
       "      <td>NaN</td>\n",
       "      <td>NaN</td>\n",
       "      <td>0.0</td>\n",
       "      <td>0.0</td>\n",
       "      <td>0.0</td>\n",
       "    </tr>\n",
       "    <tr>\n",
       "      <th>1</th>\n",
       "      <td>Airport</td>\n",
       "      <td>2020-03-06</td>\n",
       "      <td>1.0</td>\n",
       "      <td>NaN</td>\n",
       "      <td>NaN</td>\n",
       "      <td>0.0</td>\n",
       "      <td>0.0</td>\n",
       "      <td>0.0</td>\n",
       "    </tr>\n",
       "    <tr>\n",
       "      <th>2</th>\n",
       "      <td>Airport</td>\n",
       "      <td>2020-03-07</td>\n",
       "      <td>1.0</td>\n",
       "      <td>NaN</td>\n",
       "      <td>NaN</td>\n",
       "      <td>0.0</td>\n",
       "      <td>0.0</td>\n",
       "      <td>0.0</td>\n",
       "    </tr>\n",
       "    <tr>\n",
       "      <th>3</th>\n",
       "      <td>Airport</td>\n",
       "      <td>2020-03-08</td>\n",
       "      <td>1.0</td>\n",
       "      <td>NaN</td>\n",
       "      <td>NaN</td>\n",
       "      <td>0.0</td>\n",
       "      <td>0.0</td>\n",
       "      <td>0.0</td>\n",
       "    </tr>\n",
       "    <tr>\n",
       "      <th>4</th>\n",
       "      <td>Airport</td>\n",
       "      <td>2020-03-09</td>\n",
       "      <td>1.0</td>\n",
       "      <td>NaN</td>\n",
       "      <td>NaN</td>\n",
       "      <td>0.0</td>\n",
       "      <td>0.0</td>\n",
       "      <td>0.0</td>\n",
       "    </tr>\n",
       "  </tbody>\n",
       "</table>\n",
       "</div>"
      ],
      "text/plain": [
       "  Location       Date  Positive  Tested  Hospitalization  Severe  Discharged  \\\n",
       "0  Airport 2020-03-05       1.0     NaN              NaN     0.0         0.0   \n",
       "1  Airport 2020-03-06       1.0     NaN              NaN     0.0         0.0   \n",
       "2  Airport 2020-03-07       1.0     NaN              NaN     0.0         0.0   \n",
       "3  Airport 2020-03-08       1.0     NaN              NaN     0.0         0.0   \n",
       "4  Airport 2020-03-09       1.0     NaN              NaN     0.0         0.0   \n",
       "\n",
       "   Deaths  \n",
       "0     0.0  \n",
       "1     0.0  \n",
       "2     0.0  \n",
       "3     0.0  \n",
       "4     0.0  "
      ]
     },
     "execution_count": 81,
     "metadata": {},
     "output_type": "execute_result"
    }
   ],
   "source": [
    "# drop location column\n",
    "df_clean = df_clean.drop('Location', axis=1).reset_index()\n",
    "df_clean.head()"
   ]
  },
  {
   "cell_type": "code",
   "execution_count": 82,
   "metadata": {},
   "outputs": [
    {
     "data": {
      "text/html": [
       "<div>\n",
       "<style scoped>\n",
       "    .dataframe tbody tr th:only-of-type {\n",
       "        vertical-align: middle;\n",
       "    }\n",
       "\n",
       "    .dataframe tbody tr th {\n",
       "        vertical-align: top;\n",
       "    }\n",
       "\n",
       "    .dataframe thead th {\n",
       "        text-align: right;\n",
       "    }\n",
       "</style>\n",
       "<table border=\"1\" class=\"dataframe\">\n",
       "  <thead>\n",
       "    <tr style=\"text-align: right;\">\n",
       "      <th></th>\n",
       "      <th>Location</th>\n",
       "      <th>Date</th>\n",
       "      <th>Positive</th>\n",
       "      <th>Tested</th>\n",
       "      <th>Hospitalization</th>\n",
       "      <th>Severe</th>\n",
       "      <th>Discharged</th>\n",
       "      <th>Deaths</th>\n",
       "    </tr>\n",
       "  </thead>\n",
       "  <tbody>\n",
       "    <tr>\n",
       "      <th>0</th>\n",
       "      <td>Returnee</td>\n",
       "      <td>2021-08-22</td>\n",
       "      <td>15.0</td>\n",
       "      <td>829.0</td>\n",
       "      <td>0.0</td>\n",
       "      <td>0.0</td>\n",
       "      <td>15.0</td>\n",
       "      <td>0.0</td>\n",
       "    </tr>\n",
       "    <tr>\n",
       "      <th>1</th>\n",
       "      <td>Domestic</td>\n",
       "      <td>2021-08-22</td>\n",
       "      <td>1273652.0</td>\n",
       "      <td>19651418.0</td>\n",
       "      <td>203540.0</td>\n",
       "      <td>1891.0</td>\n",
       "      <td>1048617.0</td>\n",
       "      <td>15589.0</td>\n",
       "    </tr>\n",
       "    <tr>\n",
       "      <th>2</th>\n",
       "      <td>Airport</td>\n",
       "      <td>2021-08-22</td>\n",
       "      <td>3772.0</td>\n",
       "      <td>955051.0</td>\n",
       "      <td>176.0</td>\n",
       "      <td>0.0</td>\n",
       "      <td>3589.0</td>\n",
       "      <td>7.0</td>\n",
       "    </tr>\n",
       "    <tr>\n",
       "      <th>3</th>\n",
       "      <td>Returnee</td>\n",
       "      <td>2021-08-21</td>\n",
       "      <td>15.0</td>\n",
       "      <td>829.0</td>\n",
       "      <td>0.0</td>\n",
       "      <td>0.0</td>\n",
       "      <td>15.0</td>\n",
       "      <td>0.0</td>\n",
       "    </tr>\n",
       "    <tr>\n",
       "      <th>4</th>\n",
       "      <td>Domestic</td>\n",
       "      <td>2021-08-21</td>\n",
       "      <td>1248539.0</td>\n",
       "      <td>19538125.0</td>\n",
       "      <td>193355.0</td>\n",
       "      <td>1888.0</td>\n",
       "      <td>1033914.0</td>\n",
       "      <td>15556.0</td>\n",
       "    </tr>\n",
       "  </tbody>\n",
       "</table>\n",
       "</div>"
      ],
      "text/plain": [
       "   Location       Date   Positive      Tested  Hospitalization  Severe  \\\n",
       "0  Returnee 2021-08-22       15.0       829.0              0.0     0.0   \n",
       "1  Domestic 2021-08-22  1273652.0  19651418.0         203540.0  1891.0   \n",
       "2   Airport 2021-08-22     3772.0    955051.0            176.0     0.0   \n",
       "3  Returnee 2021-08-21       15.0       829.0              0.0     0.0   \n",
       "4  Domestic 2021-08-21  1248539.0  19538125.0         193355.0  1888.0   \n",
       "\n",
       "   Discharged   Deaths  \n",
       "0        15.0      0.0  \n",
       "1   1048617.0  15589.0  \n",
       "2      3589.0      7.0  \n",
       "3        15.0      0.0  \n",
       "4   1033914.0  15556.0  "
      ]
     },
     "execution_count": 82,
     "metadata": {},
     "output_type": "execute_result"
    }
   ],
   "source": [
    "# sort data by date\n",
    "df_clean= df_clean.sort_values('Date', ascending= False).reset_index(drop= True)\n",
    "df_clean.head()"
   ]
  },
  {
   "cell_type": "code",
   "execution_count": 83,
   "metadata": {},
   "outputs": [
    {
     "name": "stdout",
     "output_type": "stream",
     "text": [
      "<class 'pandas.core.frame.DataFrame'>\n",
      "RangeIndex: 1664 entries, 0 to 1663\n",
      "Data columns (total 8 columns):\n",
      " #   Column           Non-Null Count  Dtype         \n",
      "---  ------           --------------  -----         \n",
      " 0   Location         1664 non-null   object        \n",
      " 1   Date             1664 non-null   datetime64[ns]\n",
      " 2   Positive         1664 non-null   int64         \n",
      " 3   Tested           1664 non-null   int64         \n",
      " 4   Hospitalization  1664 non-null   int64         \n",
      " 5   Severe           1664 non-null   int64         \n",
      " 6   Discharged       1664 non-null   int64         \n",
      " 7   Deaths           1664 non-null   int64         \n",
      "dtypes: datetime64[ns](1), int64(6), object(1)\n",
      "memory usage: 104.1+ KB\n"
     ]
    }
   ],
   "source": [
    "# impute missing data by using interpolation method\n",
    "unmis_cols= df_clean.columns.isin(['Location', 'Date'])\n",
    "df_clean.loc[:, ~unmis_cols] = df_clean.loc[:, ~unmis_cols].interpolate('linear').astype(np.int64)\n",
    "df_clean.info()"
   ]
  },
  {
   "cell_type": "markdown",
   "metadata": {},
   "source": [
    "3. Detail Analytics for Domestic Location"
   ]
  },
  {
   "cell_type": "code",
   "execution_count": 84,
   "metadata": {},
   "outputs": [
    {
     "data": {
      "text/html": [
       "<div>\n",
       "<style scoped>\n",
       "    .dataframe tbody tr th:only-of-type {\n",
       "        vertical-align: middle;\n",
       "    }\n",
       "\n",
       "    .dataframe tbody tr th {\n",
       "        vertical-align: top;\n",
       "    }\n",
       "\n",
       "    .dataframe thead th {\n",
       "        text-align: right;\n",
       "    }\n",
       "</style>\n",
       "<table border=\"1\" class=\"dataframe\">\n",
       "  <thead>\n",
       "    <tr style=\"text-align: right;\">\n",
       "      <th></th>\n",
       "      <th>Date</th>\n",
       "      <th>Positive</th>\n",
       "      <th>Tested</th>\n",
       "      <th>Hospitalization</th>\n",
       "      <th>Severe</th>\n",
       "      <th>Discharged</th>\n",
       "      <th>Deaths</th>\n",
       "    </tr>\n",
       "  </thead>\n",
       "  <tbody>\n",
       "    <tr>\n",
       "      <th>1</th>\n",
       "      <td>2021-08-22</td>\n",
       "      <td>1273652</td>\n",
       "      <td>19651418</td>\n",
       "      <td>203540</td>\n",
       "      <td>1891</td>\n",
       "      <td>1048617</td>\n",
       "      <td>15589</td>\n",
       "    </tr>\n",
       "    <tr>\n",
       "      <th>4</th>\n",
       "      <td>2021-08-21</td>\n",
       "      <td>1248539</td>\n",
       "      <td>19538125</td>\n",
       "      <td>193355</td>\n",
       "      <td>1888</td>\n",
       "      <td>1033914</td>\n",
       "      <td>15556</td>\n",
       "    </tr>\n",
       "    <tr>\n",
       "      <th>8</th>\n",
       "      <td>2021-08-20</td>\n",
       "      <td>1223602</td>\n",
       "      <td>19508897</td>\n",
       "      <td>181106</td>\n",
       "      <td>1816</td>\n",
       "      <td>1020747</td>\n",
       "      <td>15527</td>\n",
       "    </tr>\n",
       "    <tr>\n",
       "      <th>10</th>\n",
       "      <td>2021-08-19</td>\n",
       "      <td>1198283</td>\n",
       "      <td>19276531</td>\n",
       "      <td>168699</td>\n",
       "      <td>1765</td>\n",
       "      <td>1008309</td>\n",
       "      <td>15494</td>\n",
       "    </tr>\n",
       "    <tr>\n",
       "      <th>14</th>\n",
       "      <td>2021-08-18</td>\n",
       "      <td>1175455</td>\n",
       "      <td>19145040</td>\n",
       "      <td>161699</td>\n",
       "      <td>1716</td>\n",
       "      <td>993758</td>\n",
       "      <td>15460</td>\n",
       "    </tr>\n",
       "  </tbody>\n",
       "</table>\n",
       "</div>"
      ],
      "text/plain": [
       "         Date  Positive    Tested  Hospitalization  Severe  Discharged  Deaths\n",
       "1  2021-08-22   1273652  19651418           203540    1891     1048617   15589\n",
       "4  2021-08-21   1248539  19538125           193355    1888     1033914   15556\n",
       "8  2021-08-20   1223602  19508897           181106    1816     1020747   15527\n",
       "10 2021-08-19   1198283  19276531           168699    1765     1008309   15494\n",
       "14 2021-08-18   1175455  19145040           161699    1716      993758   15460"
      ]
     },
     "execution_count": 84,
     "metadata": {},
     "output_type": "execute_result"
    }
   ],
   "source": [
    "# select data\n",
    "df_dom= df_clean[df_clean['Location'] == 'Domestic'].drop(['Location'], axis= 1)\n",
    "df_dom.head()"
   ]
  },
  {
   "cell_type": "code",
   "execution_count": 85,
   "metadata": {},
   "outputs": [
    {
     "data": {
      "text/html": [
       "<div>\n",
       "<style scoped>\n",
       "    .dataframe tbody tr th:only-of-type {\n",
       "        vertical-align: middle;\n",
       "    }\n",
       "\n",
       "    .dataframe tbody tr th {\n",
       "        vertical-align: top;\n",
       "    }\n",
       "\n",
       "    .dataframe thead th {\n",
       "        text-align: right;\n",
       "    }\n",
       "</style>\n",
       "<table border=\"1\" class=\"dataframe\">\n",
       "  <thead>\n",
       "    <tr style=\"text-align: right;\">\n",
       "      <th></th>\n",
       "      <th>Positive</th>\n",
       "      <th>Tested</th>\n",
       "      <th>Hospitalization</th>\n",
       "      <th>Severe</th>\n",
       "      <th>Discharged</th>\n",
       "      <th>Deaths</th>\n",
       "    </tr>\n",
       "    <tr>\n",
       "      <th>Date</th>\n",
       "      <th></th>\n",
       "      <th></th>\n",
       "      <th></th>\n",
       "      <th></th>\n",
       "      <th></th>\n",
       "      <th></th>\n",
       "    </tr>\n",
       "  </thead>\n",
       "  <tbody>\n",
       "    <tr>\n",
       "      <th>2021-08-22</th>\n",
       "      <td>1273652</td>\n",
       "      <td>19651418</td>\n",
       "      <td>203540</td>\n",
       "      <td>1891</td>\n",
       "      <td>1048617</td>\n",
       "      <td>15589</td>\n",
       "    </tr>\n",
       "    <tr>\n",
       "      <th>2021-08-21</th>\n",
       "      <td>1248539</td>\n",
       "      <td>19538125</td>\n",
       "      <td>193355</td>\n",
       "      <td>1888</td>\n",
       "      <td>1033914</td>\n",
       "      <td>15556</td>\n",
       "    </tr>\n",
       "    <tr>\n",
       "      <th>2021-08-20</th>\n",
       "      <td>1223602</td>\n",
       "      <td>19508897</td>\n",
       "      <td>181106</td>\n",
       "      <td>1816</td>\n",
       "      <td>1020747</td>\n",
       "      <td>15527</td>\n",
       "    </tr>\n",
       "    <tr>\n",
       "      <th>2021-08-19</th>\n",
       "      <td>1198283</td>\n",
       "      <td>19276531</td>\n",
       "      <td>168699</td>\n",
       "      <td>1765</td>\n",
       "      <td>1008309</td>\n",
       "      <td>15494</td>\n",
       "    </tr>\n",
       "    <tr>\n",
       "      <th>2021-08-18</th>\n",
       "      <td>1175455</td>\n",
       "      <td>19145040</td>\n",
       "      <td>161699</td>\n",
       "      <td>1716</td>\n",
       "      <td>993758</td>\n",
       "      <td>15460</td>\n",
       "    </tr>\n",
       "    <tr>\n",
       "      <th>2021-08-17</th>\n",
       "      <td>1156228</td>\n",
       "      <td>19026968</td>\n",
       "      <td>157758</td>\n",
       "      <td>1646</td>\n",
       "      <td>979128</td>\n",
       "      <td>15424</td>\n",
       "    </tr>\n",
       "    <tr>\n",
       "      <th>2021-08-16</th>\n",
       "      <td>1140857</td>\n",
       "      <td>18922794</td>\n",
       "      <td>156406</td>\n",
       "      <td>1603</td>\n",
       "      <td>964911</td>\n",
       "      <td>15401</td>\n",
       "    </tr>\n",
       "    <tr>\n",
       "      <th>2021-08-15</th>\n",
       "      <td>1124700</td>\n",
       "      <td>18859952</td>\n",
       "      <td>153626</td>\n",
       "      <td>1563</td>\n",
       "      <td>951787</td>\n",
       "      <td>15393</td>\n",
       "    </tr>\n",
       "    <tr>\n",
       "      <th>2021-08-14</th>\n",
       "      <td>1104601</td>\n",
       "      <td>18778497</td>\n",
       "      <td>145674</td>\n",
       "      <td>1521</td>\n",
       "      <td>939796</td>\n",
       "      <td>15376</td>\n",
       "    </tr>\n",
       "    <tr>\n",
       "      <th>2021-08-13</th>\n",
       "      <td>10884120</td>\n",
       "      <td>18643957</td>\n",
       "      <td>137246</td>\n",
       "      <td>1478</td>\n",
       "      <td>927344</td>\n",
       "      <td>15251</td>\n",
       "    </tr>\n",
       "  </tbody>\n",
       "</table>\n",
       "</div>"
      ],
      "text/plain": [
       "            Positive    Tested  Hospitalization  Severe  Discharged  Deaths\n",
       "Date                                                                       \n",
       "2021-08-22   1273652  19651418           203540    1891     1048617   15589\n",
       "2021-08-21   1248539  19538125           193355    1888     1033914   15556\n",
       "2021-08-20   1223602  19508897           181106    1816     1020747   15527\n",
       "2021-08-19   1198283  19276531           168699    1765     1008309   15494\n",
       "2021-08-18   1175455  19145040           161699    1716      993758   15460\n",
       "2021-08-17   1156228  19026968           157758    1646      979128   15424\n",
       "2021-08-16   1140857  18922794           156406    1603      964911   15401\n",
       "2021-08-15   1124700  18859952           153626    1563      951787   15393\n",
       "2021-08-14   1104601  18778497           145674    1521      939796   15376\n",
       "2021-08-13  10884120  18643957           137246    1478      927344   15251"
      ]
     },
     "execution_count": 85,
     "metadata": {},
     "output_type": "execute_result"
    }
   ],
   "source": [
    "# reset index\n",
    "df_dom.reset_index(drop= True, inplace= True)\n",
    "df_dom.set_index('Date', inplace= True)\n",
    "df_dom.head(10)"
   ]
  },
  {
   "cell_type": "code",
   "execution_count": 86,
   "metadata": {},
   "outputs": [],
   "source": [
    "# remove \n",
    "df_dom.drop(['2021-08-13'], inplace=True)"
   ]
  },
  {
   "cell_type": "code",
   "execution_count": 87,
   "metadata": {},
   "outputs": [
    {
     "data": {
      "application/vnd.plotly.v1+json": {
       "config": {
        "plotlyServerURL": "https://plot.ly"
       },
       "data": [
        {
         "alignmentgroup": "True",
         "hovertemplate": "Date=%{x}<br>Number of Tested people=%{marker.color}<extra></extra>",
         "legendgroup": "",
         "marker": {
          "color": [
           19651418,
           19538125,
           19508897,
           19276531,
           19145040,
           19026968,
           18922794,
           18859952,
           18778497,
           18533224,
           18404368,
           18277697,
           18249276,
           18207435,
           18135934,
           18023281,
           17908437,
           17807854,
           17724695,
           17619565,
           17582961,
           17495261,
           17406341,
           17317572,
           17231044,
           17138699,
           17043562,
           17025908,
           16993809,
           16943672,
           16906067,
           16836704,
           16770740,
           16701788,
           16675953,
           16632480,
           16556044,
           16488531,
           16424357,
           16320460,
           16256238,
           16230144,
           16186021,
           16114829,
           16054126,
           15987640,
           15933684,
           15874978,
           15857880,
           15819828,
           15752784,
           15675721,
           15608145,
           15546229,
           15483614,
           15462476,
           15419331,
           15329672,
           15269252,
           15206904,
           15154290,
           15104446,
           15073032,
           15030019,
           14961010,
           14890404,
           14824418,
           14763205,
           14702891,
           14677832,
           14626535,
           14526685,
           14451972,
           14388757,
           14326616,
           14251482,
           14225016,
           14170832,
           14072535,
           13896156,
           13819566,
           13752172,
           13668469,
           13638372,
           13581288,
           13462765,
           13346181,
           13259092,
           13189047,
           13097431,
           13062168,
           12995585,
           12878440,
           12781153,
           12631919,
           12545567,
           12450142,
           12414194,
           12347326,
           12247650,
           12125148,
           12038075,
           11941037,
           11810360,
           11769022,
           11698021,
           11588263,
           11498677,
           11431592,
           11403846,
           11359660,
           11323443,
           11255120,
           11155036,
           11063115,
           10995009,
           10913961,
           10830036,
           10794150,
           10735929,
           10644643,
           10550386,
           10453958,
           10383007,
           10296311,
           10265740,
           10215237,
           10137271,
           10054941,
           9981849,
           9916571,
           9844311,
           9821845,
           9780921,
           9713312,
           9642353,
           9583929,
           9530910,
           9470636,
           9453447,
           9412344,
           9351198,
           9285821,
           9218386,
           9177139,
           9104960,
           9086073,
           9046482,
           8979186,
           8916541,
           8856567,
           8803852,
           8752383,
           8735386,
           8704728,
           8633427,
           8578528,
           8493609,
           8445833,
           8395963,
           8378697,
           8347402,
           8291840,
           8234989,
           8174837,
           8134600,
           8066683,
           8052274,
           8021216,
           7926063,
           7907207,
           7877039,
           7794715,
           7734625,
           7714850,
           7685654,
           7627790,
           7568556,
           7513854,
           7495530,
           7441350,
           7426667,
           7395088,
           7320133,
           7265629,
           7204491,
           7144642,
           7086221,
           7071505,
           7041285,
           6984635,
           6951770,
           6886418,
           6808265,
           6749766,
           6731575,
           6698532,
           6627388,
           6565486,
           6496679,
           6437569,
           6370300,
           6352528,
           6312103,
           6229807,
           6165475,
           6074651,
           6008316,
           5926375,
           5907591,
           5870475,
           5769202,
           5683433,
           5596629,
           5493316,
           5412543,
           5396505,
           5351843,
           5281233,
           5179978,
           5098723,
           5012172,
           4992724,
           4968222,
           4932492,
           4869119,
           4787679,
           4713712,
           4625266,
           4540928,
           4520637,
           4511891,
           4486819,
           4447244,
           4426175,
           4401325,
           4326942,
           4314979,
           4282302,
           4222041,
           4158529,
           4086271,
           4055161,
           3999511,
           3987229,
           3960180,
           3903759,
           3841320,
           3787017,
           3741200,
           3687442,
           3674298,
           3646095,
           3592261,
           3547649,
           3493092,
           3453032,
           3415295,
           3397683,
           3375370,
           3337225,
           3300402,
           3257166,
           3212877,
           3171542,
           3159567,
           3137260,
           3093909,
           3051275,
           3010223,
           2966450,
           2956890,
           2936501,
           2911577,
           2869807,
           2831997,
           2797367,
           2769733,
           2739624,
           2730497,
           2713846,
           2689808,
           2659896,
           2626215,
           2601036,
           2575560,
           2567556,
           2554096,
           2525859,
           2496326,
           2474486,
           2467009,
           2445474,
           2439260,
           2427862,
           2406080,
           2385576,
           2362512,
           2336798,
           2314196,
           2308769,
           2295558,
           2272678,
           2249260,
           2227116,
           2211630,
           2189710,
           2184587,
           2174691,
           2153990,
           2133253,
           2111416,
           2091588,
           2068353,
           2063276,
           2052473,
           2032776,
           2011379,
           1989978,
           1969543,
           1947678,
           1942750,
           1929066,
           1907206,
           1889535,
           1870073,
           1766397,
           1746647,
           1742097,
           1731575,
           1703049,
           1684028,
           1657103,
           1653717,
           1650939,
           1644786,
           1635256,
           1617651,
           1594338,
           1576024,
           1555861,
           1530415,
           1529943,
           1519398,
           1502919,
           1480613,
           1457541,
           1442904,
           1418892,
           1414717,
           1402787,
           1387330,
           1364339,
           1340216,
           1322085,
           1300556,
           1290979,
           1278064,
           1259467,
           1237921,
           1218568,
           1200330,
           1178279,
           1167326,
           1153978,
           1132112,
           1110223,
           1088286,
           1067156,
           1041321,
           1033883,
           1022133,
           966893,
           945831,
           920049,
           887110,
           880670,
           867334,
           853658,
           830960,
           808945,
           769222,
           750482,
           724688,
           714089,
           704483,
           687129,
           667442,
           648773,
           630687,
           606505,
           602720,
           593190,
           587495,
           579185,
           562828,
           550714,
           534755,
           531493,
           524327,
           516470,
           499787,
           488444,
           477290,
           466738,
           464900,
           459538,
           449671,
           438166,
           430047,
           422948,
           414720,
           412102,
           408968,
           402371,
           396911,
           390347,
           385696,
           380186,
           378673,
           375140,
           370382,
           365927,
           360948,
           357226,
           351850,
           347723,
           345249,
           340426,
           334250,
           286739,
           284092,
           281697,
           280720,
           279184,
           276032,
           273204,
           269976,
           267069,
           263962,
           262642,
           260551,
           257330,
           254229,
           251808,
           248662,
           246100,
           244824,
           242734,
           240334,
           237367,
           235422,
           233399,
           230562,
           229669,
           227445,
           224972,
           221397,
           218744,
           216624,
           211832,
           206790,
           203284,
           194323,
           196816,
           188031,
           188646,
           183845,
           180478,
           179043,
           169546,
           157563,
           156866,
           154646,
           153581,
           153047,
           152029,
           145243,
           137338,
           136695,
           133578,
           124456,
           123633,
           122700,
           117367,
           112108,
           107430,
           101818,
           94826,
           91695,
           91050,
           86800,
           81825,
           76425,
           72801,
           63132,
           63132,
           61991,
           57125,
           54284,
           52901,
           48357,
           40481,
           40263,
           39992,
           36687,
           32002,
           32002,
           30088,
           26607,
           26401,
           26105,
           24663,
           22858,
           21266,
           22184,
           18322,
           18226,
           18134,
           18015,
           14072,
           13192,
           12989,
           12239,
           12197,
           12090,
           11231,
           9376,
           9195,
           8771,
           7457,
           7347,
           7200,
           6647,
           5948,
           5690,
           1855,
           1784,
           1688,
           1510,
           1380,
           1229,
           1061,
           1017,
           913,
           874,
           778,
           693,
           603,
           532,
           523,
           487,
           396,
           305,
           214,
           200,
           190,
           182,
           174,
           166,
           158,
           151,
           132
          ],
          "coloraxis": "coloraxis",
          "pattern": {
           "shape": ""
          }
         },
         "name": "",
         "offsetgroup": "",
         "orientation": "v",
         "showlegend": false,
         "textposition": "auto",
         "type": "bar",
         "x": [
          "2021-08-22T00:00:00",
          "2021-08-21T00:00:00",
          "2021-08-20T00:00:00",
          "2021-08-19T00:00:00",
          "2021-08-18T00:00:00",
          "2021-08-17T00:00:00",
          "2021-08-16T00:00:00",
          "2021-08-15T00:00:00",
          "2021-08-14T00:00:00",
          "2021-08-12T00:00:00",
          "2021-08-11T00:00:00",
          "2021-08-10T00:00:00",
          "2021-08-09T00:00:00",
          "2021-08-08T00:00:00",
          "2021-08-07T00:00:00",
          "2021-08-06T00:00:00",
          "2021-08-05T00:00:00",
          "2021-08-04T00:00:00",
          "2021-08-03T00:00:00",
          "2021-08-02T00:00:00",
          "2021-08-01T00:00:00",
          "2021-07-31T00:00:00",
          "2021-07-30T00:00:00",
          "2021-07-29T00:00:00",
          "2021-07-28T00:00:00",
          "2021-07-27T00:00:00",
          "2021-07-26T00:00:00",
          "2021-07-25T00:00:00",
          "2021-07-24T00:00:00",
          "2021-07-23T00:00:00",
          "2021-07-22T00:00:00",
          "2021-07-21T00:00:00",
          "2021-07-20T00:00:00",
          "2021-07-19T00:00:00",
          "2021-07-18T00:00:00",
          "2021-07-17T00:00:00",
          "2021-07-16T00:00:00",
          "2021-07-15T00:00:00",
          "2021-07-14T00:00:00",
          "2021-07-13T00:00:00",
          "2021-07-12T00:00:00",
          "2021-07-11T00:00:00",
          "2021-07-10T00:00:00",
          "2021-07-09T00:00:00",
          "2021-07-08T00:00:00",
          "2021-07-07T00:00:00",
          "2021-07-06T00:00:00",
          "2021-07-05T00:00:00",
          "2021-07-04T00:00:00",
          "2021-07-03T00:00:00",
          "2021-07-02T00:00:00",
          "2021-07-01T00:00:00",
          "2021-06-30T00:00:00",
          "2021-06-29T00:00:00",
          "2021-06-28T00:00:00",
          "2021-06-27T00:00:00",
          "2021-06-26T00:00:00",
          "2021-06-25T00:00:00",
          "2021-06-24T00:00:00",
          "2021-06-23T00:00:00",
          "2021-06-22T00:00:00",
          "2021-06-21T00:00:00",
          "2021-06-20T00:00:00",
          "2021-06-19T00:00:00",
          "2021-06-18T00:00:00",
          "2021-06-17T00:00:00",
          "2021-06-16T00:00:00",
          "2021-06-15T00:00:00",
          "2021-06-14T00:00:00",
          "2021-06-13T00:00:00",
          "2021-06-12T00:00:00",
          "2021-06-11T00:00:00",
          "2021-06-10T00:00:00",
          "2021-06-09T00:00:00",
          "2021-06-08T00:00:00",
          "2021-06-07T00:00:00",
          "2021-06-06T00:00:00",
          "2021-06-05T00:00:00",
          "2021-06-04T00:00:00",
          "2021-06-03T00:00:00",
          "2021-06-02T00:00:00",
          "2021-06-01T00:00:00",
          "2021-05-31T00:00:00",
          "2021-05-30T00:00:00",
          "2021-05-29T00:00:00",
          "2021-05-28T00:00:00",
          "2021-05-27T00:00:00",
          "2021-05-26T00:00:00",
          "2021-05-25T00:00:00",
          "2021-05-24T00:00:00",
          "2021-05-23T00:00:00",
          "2021-05-22T00:00:00",
          "2021-05-21T00:00:00",
          "2021-05-20T00:00:00",
          "2021-05-19T00:00:00",
          "2021-05-18T00:00:00",
          "2021-05-17T00:00:00",
          "2021-05-16T00:00:00",
          "2021-05-15T00:00:00",
          "2021-05-14T00:00:00",
          "2021-05-13T00:00:00",
          "2021-05-12T00:00:00",
          "2021-05-11T00:00:00",
          "2021-05-10T00:00:00",
          "2021-05-09T00:00:00",
          "2021-05-08T00:00:00",
          "2021-05-07T00:00:00",
          "2021-05-06T00:00:00",
          "2021-05-05T00:00:00",
          "2021-05-04T00:00:00",
          "2021-05-03T00:00:00",
          "2021-05-02T00:00:00",
          "2021-05-01T00:00:00",
          "2021-04-30T00:00:00",
          "2021-04-29T00:00:00",
          "2021-04-28T00:00:00",
          "2021-04-27T00:00:00",
          "2021-04-26T00:00:00",
          "2021-04-25T00:00:00",
          "2021-04-24T00:00:00",
          "2021-04-23T00:00:00",
          "2021-04-22T00:00:00",
          "2021-04-21T00:00:00",
          "2021-04-20T00:00:00",
          "2021-04-19T00:00:00",
          "2021-04-18T00:00:00",
          "2021-04-17T00:00:00",
          "2021-04-16T00:00:00",
          "2021-04-15T00:00:00",
          "2021-04-14T00:00:00",
          "2021-04-13T00:00:00",
          "2021-04-12T00:00:00",
          "2021-04-11T00:00:00",
          "2021-04-10T00:00:00",
          "2021-04-09T00:00:00",
          "2021-04-08T00:00:00",
          "2021-04-07T00:00:00",
          "2021-04-06T00:00:00",
          "2021-04-05T00:00:00",
          "2021-04-04T00:00:00",
          "2021-04-03T00:00:00",
          "2021-04-02T00:00:00",
          "2021-04-01T00:00:00",
          "2021-03-31T00:00:00",
          "2021-03-30T00:00:00",
          "2021-03-29T00:00:00",
          "2021-03-28T00:00:00",
          "2021-03-27T00:00:00",
          "2021-03-26T00:00:00",
          "2021-03-25T00:00:00",
          "2021-03-24T00:00:00",
          "2021-03-23T00:00:00",
          "2021-03-22T00:00:00",
          "2021-03-21T00:00:00",
          "2021-03-20T00:00:00",
          "2021-03-19T00:00:00",
          "2021-03-18T00:00:00",
          "2021-03-17T00:00:00",
          "2021-03-16T00:00:00",
          "2021-03-15T00:00:00",
          "2021-03-14T00:00:00",
          "2021-03-13T00:00:00",
          "2021-03-12T00:00:00",
          "2021-03-11T00:00:00",
          "2021-03-10T00:00:00",
          "2021-03-09T00:00:00",
          "2021-03-08T00:00:00",
          "2021-03-07T00:00:00",
          "2021-03-06T00:00:00",
          "2021-03-05T00:00:00",
          "2021-03-04T00:00:00",
          "2021-03-03T00:00:00",
          "2021-03-02T00:00:00",
          "2021-03-01T00:00:00",
          "2021-02-28T00:00:00",
          "2021-02-27T00:00:00",
          "2021-02-26T00:00:00",
          "2021-02-25T00:00:00",
          "2021-02-24T00:00:00",
          "2021-02-23T00:00:00",
          "2021-02-22T00:00:00",
          "2021-02-21T00:00:00",
          "2021-02-20T00:00:00",
          "2021-02-19T00:00:00",
          "2021-02-18T00:00:00",
          "2021-02-17T00:00:00",
          "2021-02-16T00:00:00",
          "2021-02-15T00:00:00",
          "2021-02-14T00:00:00",
          "2021-02-13T00:00:00",
          "2021-02-12T00:00:00",
          "2021-02-11T00:00:00",
          "2021-02-10T00:00:00",
          "2021-02-09T00:00:00",
          "2021-02-08T00:00:00",
          "2021-02-07T00:00:00",
          "2021-02-06T00:00:00",
          "2021-02-05T00:00:00",
          "2021-02-04T00:00:00",
          "2021-02-03T00:00:00",
          "2021-02-02T00:00:00",
          "2021-02-01T00:00:00",
          "2021-01-31T00:00:00",
          "2021-01-30T00:00:00",
          "2021-01-29T00:00:00",
          "2021-01-28T00:00:00",
          "2021-01-27T00:00:00",
          "2021-01-26T00:00:00",
          "2021-01-25T00:00:00",
          "2021-01-24T00:00:00",
          "2021-01-23T00:00:00",
          "2021-01-22T00:00:00",
          "2021-01-21T00:00:00",
          "2021-01-20T00:00:00",
          "2021-01-19T00:00:00",
          "2021-01-18T00:00:00",
          "2021-01-17T00:00:00",
          "2021-01-16T00:00:00",
          "2021-01-15T00:00:00",
          "2021-01-14T00:00:00",
          "2021-01-13T00:00:00",
          "2021-01-12T00:00:00",
          "2021-01-11T00:00:00",
          "2021-01-10T00:00:00",
          "2021-01-09T00:00:00",
          "2021-01-08T00:00:00",
          "2021-01-07T00:00:00",
          "2021-01-06T00:00:00",
          "2021-01-05T00:00:00",
          "2021-01-04T00:00:00",
          "2021-01-03T00:00:00",
          "2021-01-02T00:00:00",
          "2021-01-01T00:00:00",
          "2020-12-31T00:00:00",
          "2020-12-30T00:00:00",
          "2020-12-29T00:00:00",
          "2020-12-28T00:00:00",
          "2020-12-27T00:00:00",
          "2020-12-26T00:00:00",
          "2020-12-25T00:00:00",
          "2020-12-24T00:00:00",
          "2020-12-23T00:00:00",
          "2020-12-22T00:00:00",
          "2020-12-21T00:00:00",
          "2020-12-20T00:00:00",
          "2020-12-19T00:00:00",
          "2020-12-18T00:00:00",
          "2020-12-17T00:00:00",
          "2020-12-16T00:00:00",
          "2020-12-15T00:00:00",
          "2020-12-14T00:00:00",
          "2020-12-13T00:00:00",
          "2020-12-12T00:00:00",
          "2020-12-11T00:00:00",
          "2020-12-10T00:00:00",
          "2020-12-09T00:00:00",
          "2020-12-08T00:00:00",
          "2020-12-07T00:00:00",
          "2020-12-06T00:00:00",
          "2020-12-05T00:00:00",
          "2020-12-04T00:00:00",
          "2020-12-03T00:00:00",
          "2020-12-02T00:00:00",
          "2020-12-01T00:00:00",
          "2020-11-30T00:00:00",
          "2020-11-29T00:00:00",
          "2020-11-28T00:00:00",
          "2020-11-27T00:00:00",
          "2020-11-26T00:00:00",
          "2020-11-25T00:00:00",
          "2020-11-24T00:00:00",
          "2020-11-23T00:00:00",
          "2020-11-22T00:00:00",
          "2020-11-21T00:00:00",
          "2020-11-20T00:00:00",
          "2020-11-19T00:00:00",
          "2020-11-18T00:00:00",
          "2020-11-17T00:00:00",
          "2020-11-16T00:00:00",
          "2020-11-15T00:00:00",
          "2020-11-14T00:00:00",
          "2020-11-13T00:00:00",
          "2020-11-12T00:00:00",
          "2020-11-11T00:00:00",
          "2020-11-10T00:00:00",
          "2020-11-09T00:00:00",
          "2020-11-08T00:00:00",
          "2020-11-07T00:00:00",
          "2020-11-06T00:00:00",
          "2020-11-05T00:00:00",
          "2020-11-04T00:00:00",
          "2020-11-03T00:00:00",
          "2020-11-02T00:00:00",
          "2020-11-01T00:00:00",
          "2020-10-31T00:00:00",
          "2020-10-30T00:00:00",
          "2020-10-29T00:00:00",
          "2020-10-28T00:00:00",
          "2020-10-27T00:00:00",
          "2020-10-26T00:00:00",
          "2020-10-25T00:00:00",
          "2020-10-24T00:00:00",
          "2020-10-23T00:00:00",
          "2020-10-22T00:00:00",
          "2020-10-21T00:00:00",
          "2020-10-20T00:00:00",
          "2020-10-19T00:00:00",
          "2020-10-18T00:00:00",
          "2020-10-17T00:00:00",
          "2020-10-16T00:00:00",
          "2020-10-15T00:00:00",
          "2020-10-14T00:00:00",
          "2020-10-13T00:00:00",
          "2020-10-12T00:00:00",
          "2020-10-11T00:00:00",
          "2020-10-10T00:00:00",
          "2020-10-09T00:00:00",
          "2020-10-08T00:00:00",
          "2020-10-07T00:00:00",
          "2020-10-06T00:00:00",
          "2020-10-05T00:00:00",
          "2020-10-04T00:00:00",
          "2020-10-03T00:00:00",
          "2020-10-02T00:00:00",
          "2020-10-01T00:00:00",
          "2020-09-30T00:00:00",
          "2020-09-29T00:00:00",
          "2020-09-28T00:00:00",
          "2020-09-27T00:00:00",
          "2020-09-26T00:00:00",
          "2020-09-25T00:00:00",
          "2020-09-24T00:00:00",
          "2020-09-23T00:00:00",
          "2020-09-22T00:00:00",
          "2020-09-21T00:00:00",
          "2020-09-20T00:00:00",
          "2020-09-19T00:00:00",
          "2020-09-18T00:00:00",
          "2020-09-17T00:00:00",
          "2020-09-16T00:00:00",
          "2020-09-15T00:00:00",
          "2020-09-14T00:00:00",
          "2020-09-13T00:00:00",
          "2020-09-12T00:00:00",
          "2020-09-11T00:00:00",
          "2020-09-10T00:00:00",
          "2020-09-09T00:00:00",
          "2020-09-08T00:00:00",
          "2020-09-07T00:00:00",
          "2020-09-06T00:00:00",
          "2020-09-05T00:00:00",
          "2020-09-04T00:00:00",
          "2020-09-03T00:00:00",
          "2020-09-02T00:00:00",
          "2020-09-01T00:00:00",
          "2020-08-31T00:00:00",
          "2020-08-30T00:00:00",
          "2020-08-29T00:00:00",
          "2020-08-28T00:00:00",
          "2020-08-27T00:00:00",
          "2020-08-26T00:00:00",
          "2020-08-25T00:00:00",
          "2020-08-24T00:00:00",
          "2020-08-23T00:00:00",
          "2020-08-22T00:00:00",
          "2020-08-21T00:00:00",
          "2020-08-20T00:00:00",
          "2020-08-19T00:00:00",
          "2020-08-18T00:00:00",
          "2020-08-17T00:00:00",
          "2020-08-16T00:00:00",
          "2020-08-15T00:00:00",
          "2020-08-14T00:00:00",
          "2020-08-13T00:00:00",
          "2020-08-12T00:00:00",
          "2020-08-11T00:00:00",
          "2020-08-10T00:00:00",
          "2020-08-09T00:00:00",
          "2020-08-08T00:00:00",
          "2020-08-07T00:00:00",
          "2020-08-06T00:00:00",
          "2020-08-05T00:00:00",
          "2020-08-04T00:00:00",
          "2020-08-03T00:00:00",
          "2020-08-02T00:00:00",
          "2020-08-01T00:00:00",
          "2020-07-31T00:00:00",
          "2020-07-30T00:00:00",
          "2020-07-29T00:00:00",
          "2020-07-28T00:00:00",
          "2020-07-27T00:00:00",
          "2020-07-26T00:00:00",
          "2020-07-25T00:00:00",
          "2020-07-24T00:00:00",
          "2020-07-23T00:00:00",
          "2020-07-22T00:00:00",
          "2020-07-21T00:00:00",
          "2020-07-20T00:00:00",
          "2020-07-19T00:00:00",
          "2020-07-18T00:00:00",
          "2020-07-17T00:00:00",
          "2020-07-16T00:00:00",
          "2020-07-15T00:00:00",
          "2020-07-14T00:00:00",
          "2020-07-13T00:00:00",
          "2020-07-12T00:00:00",
          "2020-07-11T00:00:00",
          "2020-07-10T00:00:00",
          "2020-07-09T00:00:00",
          "2020-07-08T00:00:00",
          "2020-07-07T00:00:00",
          "2020-07-06T00:00:00",
          "2020-07-05T00:00:00",
          "2020-07-04T00:00:00",
          "2020-07-03T00:00:00",
          "2020-07-02T00:00:00",
          "2020-07-01T00:00:00",
          "2020-06-30T00:00:00",
          "2020-06-29T00:00:00",
          "2020-06-28T00:00:00",
          "2020-06-27T00:00:00",
          "2020-06-26T00:00:00",
          "2020-06-25T00:00:00",
          "2020-06-24T00:00:00",
          "2020-06-23T00:00:00",
          "2020-06-22T00:00:00",
          "2020-06-21T00:00:00",
          "2020-06-20T00:00:00",
          "2020-06-19T00:00:00",
          "2020-06-18T00:00:00",
          "2020-06-17T00:00:00",
          "2020-06-16T00:00:00",
          "2020-06-15T00:00:00",
          "2020-06-14T00:00:00",
          "2020-06-13T00:00:00",
          "2020-06-12T00:00:00",
          "2020-06-11T00:00:00",
          "2020-06-10T00:00:00",
          "2020-06-09T00:00:00",
          "2020-06-08T00:00:00",
          "2020-06-07T00:00:00",
          "2020-06-06T00:00:00",
          "2020-06-05T00:00:00",
          "2020-06-04T00:00:00",
          "2020-06-03T00:00:00",
          "2020-06-02T00:00:00",
          "2020-06-01T00:00:00",
          "2020-05-31T00:00:00",
          "2020-05-30T00:00:00",
          "2020-05-29T00:00:00",
          "2020-05-28T00:00:00",
          "2020-05-27T00:00:00",
          "2020-05-26T00:00:00",
          "2020-05-25T00:00:00",
          "2020-05-24T00:00:00",
          "2020-05-23T00:00:00",
          "2020-05-22T00:00:00",
          "2020-05-21T00:00:00",
          "2020-05-20T00:00:00",
          "2020-05-19T00:00:00",
          "2020-05-18T00:00:00",
          "2020-05-17T00:00:00",
          "2020-05-16T00:00:00",
          "2020-05-15T00:00:00",
          "2020-05-14T00:00:00",
          "2020-05-13T00:00:00",
          "2020-05-12T00:00:00",
          "2020-05-11T00:00:00",
          "2020-05-10T00:00:00",
          "2020-05-09T00:00:00",
          "2020-05-08T00:00:00",
          "2020-05-07T00:00:00",
          "2020-05-06T00:00:00",
          "2020-05-05T00:00:00",
          "2020-05-04T00:00:00",
          "2020-05-03T00:00:00",
          "2020-05-02T00:00:00",
          "2020-05-01T00:00:00",
          "2020-04-30T00:00:00",
          "2020-04-29T00:00:00",
          "2020-04-28T00:00:00",
          "2020-04-27T00:00:00",
          "2020-04-26T00:00:00",
          "2020-04-25T00:00:00",
          "2020-04-24T00:00:00",
          "2020-04-23T00:00:00",
          "2020-04-22T00:00:00",
          "2020-04-21T00:00:00",
          "2020-04-20T00:00:00",
          "2020-04-19T00:00:00",
          "2020-04-18T00:00:00",
          "2020-04-17T00:00:00",
          "2020-04-16T00:00:00",
          "2020-04-15T00:00:00",
          "2020-04-14T00:00:00",
          "2020-04-13T00:00:00",
          "2020-04-12T00:00:00",
          "2020-04-11T00:00:00",
          "2020-04-10T00:00:00",
          "2020-04-09T00:00:00",
          "2020-04-08T00:00:00",
          "2020-04-07T00:00:00",
          "2020-04-06T00:00:00",
          "2020-04-05T00:00:00",
          "2020-04-04T00:00:00",
          "2020-04-03T00:00:00",
          "2020-04-02T00:00:00",
          "2020-04-01T00:00:00",
          "2020-03-31T00:00:00",
          "2020-03-30T00:00:00",
          "2020-03-29T00:00:00",
          "2020-03-28T00:00:00",
          "2020-03-27T00:00:00",
          "2020-03-26T00:00:00",
          "2020-03-25T00:00:00",
          "2020-03-24T00:00:00",
          "2020-03-23T00:00:00",
          "2020-03-22T00:00:00",
          "2020-03-21T00:00:00",
          "2020-03-20T00:00:00",
          "2020-03-19T00:00:00",
          "2020-03-18T00:00:00",
          "2020-03-17T00:00:00",
          "2020-03-16T00:00:00",
          "2020-03-15T00:00:00",
          "2020-03-14T00:00:00",
          "2020-03-13T00:00:00",
          "2020-03-12T00:00:00",
          "2020-03-11T00:00:00",
          "2020-03-10T00:00:00",
          "2020-03-09T00:00:00",
          "2020-03-08T00:00:00",
          "2020-03-07T00:00:00",
          "2020-03-06T00:00:00",
          "2020-03-05T00:00:00",
          "2020-03-04T00:00:00",
          "2020-03-03T00:00:00",
          "2020-03-02T00:00:00",
          "2020-03-01T00:00:00",
          "2020-02-29T00:00:00",
          "2020-02-28T00:00:00",
          "2020-02-27T00:00:00",
          "2020-02-26T00:00:00",
          "2020-02-25T00:00:00",
          "2020-02-24T00:00:00",
          "2020-02-23T00:00:00",
          "2020-02-22T00:00:00",
          "2020-02-21T00:00:00",
          "2020-02-20T00:00:00",
          "2020-02-19T00:00:00",
          "2020-02-18T00:00:00",
          "2020-02-17T00:00:00",
          "2020-02-16T00:00:00",
          "2020-02-15T00:00:00",
          "2020-02-14T00:00:00",
          "2020-02-13T00:00:00",
          "2020-02-12T00:00:00",
          "2020-02-11T00:00:00",
          "2020-02-10T00:00:00",
          "2020-02-09T00:00:00",
          "2020-02-08T00:00:00",
          "2020-02-07T00:00:00",
          "2020-02-06T00:00:00"
         ],
         "xaxis": "x",
         "y": [
          19651418,
          19538125,
          19508897,
          19276531,
          19145040,
          19026968,
          18922794,
          18859952,
          18778497,
          18533224,
          18404368,
          18277697,
          18249276,
          18207435,
          18135934,
          18023281,
          17908437,
          17807854,
          17724695,
          17619565,
          17582961,
          17495261,
          17406341,
          17317572,
          17231044,
          17138699,
          17043562,
          17025908,
          16993809,
          16943672,
          16906067,
          16836704,
          16770740,
          16701788,
          16675953,
          16632480,
          16556044,
          16488531,
          16424357,
          16320460,
          16256238,
          16230144,
          16186021,
          16114829,
          16054126,
          15987640,
          15933684,
          15874978,
          15857880,
          15819828,
          15752784,
          15675721,
          15608145,
          15546229,
          15483614,
          15462476,
          15419331,
          15329672,
          15269252,
          15206904,
          15154290,
          15104446,
          15073032,
          15030019,
          14961010,
          14890404,
          14824418,
          14763205,
          14702891,
          14677832,
          14626535,
          14526685,
          14451972,
          14388757,
          14326616,
          14251482,
          14225016,
          14170832,
          14072535,
          13896156,
          13819566,
          13752172,
          13668469,
          13638372,
          13581288,
          13462765,
          13346181,
          13259092,
          13189047,
          13097431,
          13062168,
          12995585,
          12878440,
          12781153,
          12631919,
          12545567,
          12450142,
          12414194,
          12347326,
          12247650,
          12125148,
          12038075,
          11941037,
          11810360,
          11769022,
          11698021,
          11588263,
          11498677,
          11431592,
          11403846,
          11359660,
          11323443,
          11255120,
          11155036,
          11063115,
          10995009,
          10913961,
          10830036,
          10794150,
          10735929,
          10644643,
          10550386,
          10453958,
          10383007,
          10296311,
          10265740,
          10215237,
          10137271,
          10054941,
          9981849,
          9916571,
          9844311,
          9821845,
          9780921,
          9713312,
          9642353,
          9583929,
          9530910,
          9470636,
          9453447,
          9412344,
          9351198,
          9285821,
          9218386,
          9177139,
          9104960,
          9086073,
          9046482,
          8979186,
          8916541,
          8856567,
          8803852,
          8752383,
          8735386,
          8704728,
          8633427,
          8578528,
          8493609,
          8445833,
          8395963,
          8378697,
          8347402,
          8291840,
          8234989,
          8174837,
          8134600,
          8066683,
          8052274,
          8021216,
          7926063,
          7907207,
          7877039,
          7794715,
          7734625,
          7714850,
          7685654,
          7627790,
          7568556,
          7513854,
          7495530,
          7441350,
          7426667,
          7395088,
          7320133,
          7265629,
          7204491,
          7144642,
          7086221,
          7071505,
          7041285,
          6984635,
          6951770,
          6886418,
          6808265,
          6749766,
          6731575,
          6698532,
          6627388,
          6565486,
          6496679,
          6437569,
          6370300,
          6352528,
          6312103,
          6229807,
          6165475,
          6074651,
          6008316,
          5926375,
          5907591,
          5870475,
          5769202,
          5683433,
          5596629,
          5493316,
          5412543,
          5396505,
          5351843,
          5281233,
          5179978,
          5098723,
          5012172,
          4992724,
          4968222,
          4932492,
          4869119,
          4787679,
          4713712,
          4625266,
          4540928,
          4520637,
          4511891,
          4486819,
          4447244,
          4426175,
          4401325,
          4326942,
          4314979,
          4282302,
          4222041,
          4158529,
          4086271,
          4055161,
          3999511,
          3987229,
          3960180,
          3903759,
          3841320,
          3787017,
          3741200,
          3687442,
          3674298,
          3646095,
          3592261,
          3547649,
          3493092,
          3453032,
          3415295,
          3397683,
          3375370,
          3337225,
          3300402,
          3257166,
          3212877,
          3171542,
          3159567,
          3137260,
          3093909,
          3051275,
          3010223,
          2966450,
          2956890,
          2936501,
          2911577,
          2869807,
          2831997,
          2797367,
          2769733,
          2739624,
          2730497,
          2713846,
          2689808,
          2659896,
          2626215,
          2601036,
          2575560,
          2567556,
          2554096,
          2525859,
          2496326,
          2474486,
          2467009,
          2445474,
          2439260,
          2427862,
          2406080,
          2385576,
          2362512,
          2336798,
          2314196,
          2308769,
          2295558,
          2272678,
          2249260,
          2227116,
          2211630,
          2189710,
          2184587,
          2174691,
          2153990,
          2133253,
          2111416,
          2091588,
          2068353,
          2063276,
          2052473,
          2032776,
          2011379,
          1989978,
          1969543,
          1947678,
          1942750,
          1929066,
          1907206,
          1889535,
          1870073,
          1766397,
          1746647,
          1742097,
          1731575,
          1703049,
          1684028,
          1657103,
          1653717,
          1650939,
          1644786,
          1635256,
          1617651,
          1594338,
          1576024,
          1555861,
          1530415,
          1529943,
          1519398,
          1502919,
          1480613,
          1457541,
          1442904,
          1418892,
          1414717,
          1402787,
          1387330,
          1364339,
          1340216,
          1322085,
          1300556,
          1290979,
          1278064,
          1259467,
          1237921,
          1218568,
          1200330,
          1178279,
          1167326,
          1153978,
          1132112,
          1110223,
          1088286,
          1067156,
          1041321,
          1033883,
          1022133,
          966893,
          945831,
          920049,
          887110,
          880670,
          867334,
          853658,
          830960,
          808945,
          769222,
          750482,
          724688,
          714089,
          704483,
          687129,
          667442,
          648773,
          630687,
          606505,
          602720,
          593190,
          587495,
          579185,
          562828,
          550714,
          534755,
          531493,
          524327,
          516470,
          499787,
          488444,
          477290,
          466738,
          464900,
          459538,
          449671,
          438166,
          430047,
          422948,
          414720,
          412102,
          408968,
          402371,
          396911,
          390347,
          385696,
          380186,
          378673,
          375140,
          370382,
          365927,
          360948,
          357226,
          351850,
          347723,
          345249,
          340426,
          334250,
          286739,
          284092,
          281697,
          280720,
          279184,
          276032,
          273204,
          269976,
          267069,
          263962,
          262642,
          260551,
          257330,
          254229,
          251808,
          248662,
          246100,
          244824,
          242734,
          240334,
          237367,
          235422,
          233399,
          230562,
          229669,
          227445,
          224972,
          221397,
          218744,
          216624,
          211832,
          206790,
          203284,
          194323,
          196816,
          188031,
          188646,
          183845,
          180478,
          179043,
          169546,
          157563,
          156866,
          154646,
          153581,
          153047,
          152029,
          145243,
          137338,
          136695,
          133578,
          124456,
          123633,
          122700,
          117367,
          112108,
          107430,
          101818,
          94826,
          91695,
          91050,
          86800,
          81825,
          76425,
          72801,
          63132,
          63132,
          61991,
          57125,
          54284,
          52901,
          48357,
          40481,
          40263,
          39992,
          36687,
          32002,
          32002,
          30088,
          26607,
          26401,
          26105,
          24663,
          22858,
          21266,
          22184,
          18322,
          18226,
          18134,
          18015,
          14072,
          13192,
          12989,
          12239,
          12197,
          12090,
          11231,
          9376,
          9195,
          8771,
          7457,
          7347,
          7200,
          6647,
          5948,
          5690,
          1855,
          1784,
          1688,
          1510,
          1380,
          1229,
          1061,
          1017,
          913,
          874,
          778,
          693,
          603,
          532,
          523,
          487,
          396,
          305,
          214,
          200,
          190,
          182,
          174,
          166,
          158,
          151,
          132
         ],
         "yaxis": "y"
        }
       ],
       "layout": {
        "barmode": "relative",
        "coloraxis": {
         "colorbar": {
          "title": {
           "text": "Number of Tested people"
          }
         },
         "colorscale": [
          [
           0,
           "#0d0887"
          ],
          [
           0.1111111111111111,
           "#46039f"
          ],
          [
           0.2222222222222222,
           "#7201a8"
          ],
          [
           0.3333333333333333,
           "#9c179e"
          ],
          [
           0.4444444444444444,
           "#bd3786"
          ],
          [
           0.5555555555555556,
           "#d8576b"
          ],
          [
           0.6666666666666666,
           "#ed7953"
          ],
          [
           0.7777777777777778,
           "#fb9f3a"
          ],
          [
           0.8888888888888888,
           "#fdca26"
          ],
          [
           1,
           "#f0f921"
          ]
         ]
        },
        "legend": {
         "tracegroupgap": 0
        },
        "template": {
         "data": {
          "bar": [
           {
            "error_x": {
             "color": "#2a3f5f"
            },
            "error_y": {
             "color": "#2a3f5f"
            },
            "marker": {
             "line": {
              "color": "#E5ECF6",
              "width": 0.5
             },
             "pattern": {
              "fillmode": "overlay",
              "size": 10,
              "solidity": 0.2
             }
            },
            "type": "bar"
           }
          ],
          "barpolar": [
           {
            "marker": {
             "line": {
              "color": "#E5ECF6",
              "width": 0.5
             },
             "pattern": {
              "fillmode": "overlay",
              "size": 10,
              "solidity": 0.2
             }
            },
            "type": "barpolar"
           }
          ],
          "carpet": [
           {
            "aaxis": {
             "endlinecolor": "#2a3f5f",
             "gridcolor": "white",
             "linecolor": "white",
             "minorgridcolor": "white",
             "startlinecolor": "#2a3f5f"
            },
            "baxis": {
             "endlinecolor": "#2a3f5f",
             "gridcolor": "white",
             "linecolor": "white",
             "minorgridcolor": "white",
             "startlinecolor": "#2a3f5f"
            },
            "type": "carpet"
           }
          ],
          "choropleth": [
           {
            "colorbar": {
             "outlinewidth": 0,
             "ticks": ""
            },
            "type": "choropleth"
           }
          ],
          "contour": [
           {
            "colorbar": {
             "outlinewidth": 0,
             "ticks": ""
            },
            "colorscale": [
             [
              0,
              "#0d0887"
             ],
             [
              0.1111111111111111,
              "#46039f"
             ],
             [
              0.2222222222222222,
              "#7201a8"
             ],
             [
              0.3333333333333333,
              "#9c179e"
             ],
             [
              0.4444444444444444,
              "#bd3786"
             ],
             [
              0.5555555555555556,
              "#d8576b"
             ],
             [
              0.6666666666666666,
              "#ed7953"
             ],
             [
              0.7777777777777778,
              "#fb9f3a"
             ],
             [
              0.8888888888888888,
              "#fdca26"
             ],
             [
              1,
              "#f0f921"
             ]
            ],
            "type": "contour"
           }
          ],
          "contourcarpet": [
           {
            "colorbar": {
             "outlinewidth": 0,
             "ticks": ""
            },
            "type": "contourcarpet"
           }
          ],
          "heatmap": [
           {
            "colorbar": {
             "outlinewidth": 0,
             "ticks": ""
            },
            "colorscale": [
             [
              0,
              "#0d0887"
             ],
             [
              0.1111111111111111,
              "#46039f"
             ],
             [
              0.2222222222222222,
              "#7201a8"
             ],
             [
              0.3333333333333333,
              "#9c179e"
             ],
             [
              0.4444444444444444,
              "#bd3786"
             ],
             [
              0.5555555555555556,
              "#d8576b"
             ],
             [
              0.6666666666666666,
              "#ed7953"
             ],
             [
              0.7777777777777778,
              "#fb9f3a"
             ],
             [
              0.8888888888888888,
              "#fdca26"
             ],
             [
              1,
              "#f0f921"
             ]
            ],
            "type": "heatmap"
           }
          ],
          "heatmapgl": [
           {
            "colorbar": {
             "outlinewidth": 0,
             "ticks": ""
            },
            "colorscale": [
             [
              0,
              "#0d0887"
             ],
             [
              0.1111111111111111,
              "#46039f"
             ],
             [
              0.2222222222222222,
              "#7201a8"
             ],
             [
              0.3333333333333333,
              "#9c179e"
             ],
             [
              0.4444444444444444,
              "#bd3786"
             ],
             [
              0.5555555555555556,
              "#d8576b"
             ],
             [
              0.6666666666666666,
              "#ed7953"
             ],
             [
              0.7777777777777778,
              "#fb9f3a"
             ],
             [
              0.8888888888888888,
              "#fdca26"
             ],
             [
              1,
              "#f0f921"
             ]
            ],
            "type": "heatmapgl"
           }
          ],
          "histogram": [
           {
            "marker": {
             "pattern": {
              "fillmode": "overlay",
              "size": 10,
              "solidity": 0.2
             }
            },
            "type": "histogram"
           }
          ],
          "histogram2d": [
           {
            "colorbar": {
             "outlinewidth": 0,
             "ticks": ""
            },
            "colorscale": [
             [
              0,
              "#0d0887"
             ],
             [
              0.1111111111111111,
              "#46039f"
             ],
             [
              0.2222222222222222,
              "#7201a8"
             ],
             [
              0.3333333333333333,
              "#9c179e"
             ],
             [
              0.4444444444444444,
              "#bd3786"
             ],
             [
              0.5555555555555556,
              "#d8576b"
             ],
             [
              0.6666666666666666,
              "#ed7953"
             ],
             [
              0.7777777777777778,
              "#fb9f3a"
             ],
             [
              0.8888888888888888,
              "#fdca26"
             ],
             [
              1,
              "#f0f921"
             ]
            ],
            "type": "histogram2d"
           }
          ],
          "histogram2dcontour": [
           {
            "colorbar": {
             "outlinewidth": 0,
             "ticks": ""
            },
            "colorscale": [
             [
              0,
              "#0d0887"
             ],
             [
              0.1111111111111111,
              "#46039f"
             ],
             [
              0.2222222222222222,
              "#7201a8"
             ],
             [
              0.3333333333333333,
              "#9c179e"
             ],
             [
              0.4444444444444444,
              "#bd3786"
             ],
             [
              0.5555555555555556,
              "#d8576b"
             ],
             [
              0.6666666666666666,
              "#ed7953"
             ],
             [
              0.7777777777777778,
              "#fb9f3a"
             ],
             [
              0.8888888888888888,
              "#fdca26"
             ],
             [
              1,
              "#f0f921"
             ]
            ],
            "type": "histogram2dcontour"
           }
          ],
          "mesh3d": [
           {
            "colorbar": {
             "outlinewidth": 0,
             "ticks": ""
            },
            "type": "mesh3d"
           }
          ],
          "parcoords": [
           {
            "line": {
             "colorbar": {
              "outlinewidth": 0,
              "ticks": ""
             }
            },
            "type": "parcoords"
           }
          ],
          "pie": [
           {
            "automargin": true,
            "type": "pie"
           }
          ],
          "scatter": [
           {
            "fillpattern": {
             "fillmode": "overlay",
             "size": 10,
             "solidity": 0.2
            },
            "type": "scatter"
           }
          ],
          "scatter3d": [
           {
            "line": {
             "colorbar": {
              "outlinewidth": 0,
              "ticks": ""
             }
            },
            "marker": {
             "colorbar": {
              "outlinewidth": 0,
              "ticks": ""
             }
            },
            "type": "scatter3d"
           }
          ],
          "scattercarpet": [
           {
            "marker": {
             "colorbar": {
              "outlinewidth": 0,
              "ticks": ""
             }
            },
            "type": "scattercarpet"
           }
          ],
          "scattergeo": [
           {
            "marker": {
             "colorbar": {
              "outlinewidth": 0,
              "ticks": ""
             }
            },
            "type": "scattergeo"
           }
          ],
          "scattergl": [
           {
            "marker": {
             "colorbar": {
              "outlinewidth": 0,
              "ticks": ""
             }
            },
            "type": "scattergl"
           }
          ],
          "scattermapbox": [
           {
            "marker": {
             "colorbar": {
              "outlinewidth": 0,
              "ticks": ""
             }
            },
            "type": "scattermapbox"
           }
          ],
          "scatterpolar": [
           {
            "marker": {
             "colorbar": {
              "outlinewidth": 0,
              "ticks": ""
             }
            },
            "type": "scatterpolar"
           }
          ],
          "scatterpolargl": [
           {
            "marker": {
             "colorbar": {
              "outlinewidth": 0,
              "ticks": ""
             }
            },
            "type": "scatterpolargl"
           }
          ],
          "scatterternary": [
           {
            "marker": {
             "colorbar": {
              "outlinewidth": 0,
              "ticks": ""
             }
            },
            "type": "scatterternary"
           }
          ],
          "surface": [
           {
            "colorbar": {
             "outlinewidth": 0,
             "ticks": ""
            },
            "colorscale": [
             [
              0,
              "#0d0887"
             ],
             [
              0.1111111111111111,
              "#46039f"
             ],
             [
              0.2222222222222222,
              "#7201a8"
             ],
             [
              0.3333333333333333,
              "#9c179e"
             ],
             [
              0.4444444444444444,
              "#bd3786"
             ],
             [
              0.5555555555555556,
              "#d8576b"
             ],
             [
              0.6666666666666666,
              "#ed7953"
             ],
             [
              0.7777777777777778,
              "#fb9f3a"
             ],
             [
              0.8888888888888888,
              "#fdca26"
             ],
             [
              1,
              "#f0f921"
             ]
            ],
            "type": "surface"
           }
          ],
          "table": [
           {
            "cells": {
             "fill": {
              "color": "#EBF0F8"
             },
             "line": {
              "color": "white"
             }
            },
            "header": {
             "fill": {
              "color": "#C8D4E3"
             },
             "line": {
              "color": "white"
             }
            },
            "type": "table"
           }
          ]
         },
         "layout": {
          "annotationdefaults": {
           "arrowcolor": "#2a3f5f",
           "arrowhead": 0,
           "arrowwidth": 1
          },
          "autotypenumbers": "strict",
          "coloraxis": {
           "colorbar": {
            "outlinewidth": 0,
            "ticks": ""
           }
          },
          "colorscale": {
           "diverging": [
            [
             0,
             "#8e0152"
            ],
            [
             0.1,
             "#c51b7d"
            ],
            [
             0.2,
             "#de77ae"
            ],
            [
             0.3,
             "#f1b6da"
            ],
            [
             0.4,
             "#fde0ef"
            ],
            [
             0.5,
             "#f7f7f7"
            ],
            [
             0.6,
             "#e6f5d0"
            ],
            [
             0.7,
             "#b8e186"
            ],
            [
             0.8,
             "#7fbc41"
            ],
            [
             0.9,
             "#4d9221"
            ],
            [
             1,
             "#276419"
            ]
           ],
           "sequential": [
            [
             0,
             "#0d0887"
            ],
            [
             0.1111111111111111,
             "#46039f"
            ],
            [
             0.2222222222222222,
             "#7201a8"
            ],
            [
             0.3333333333333333,
             "#9c179e"
            ],
            [
             0.4444444444444444,
             "#bd3786"
            ],
            [
             0.5555555555555556,
             "#d8576b"
            ],
            [
             0.6666666666666666,
             "#ed7953"
            ],
            [
             0.7777777777777778,
             "#fb9f3a"
            ],
            [
             0.8888888888888888,
             "#fdca26"
            ],
            [
             1,
             "#f0f921"
            ]
           ],
           "sequentialminus": [
            [
             0,
             "#0d0887"
            ],
            [
             0.1111111111111111,
             "#46039f"
            ],
            [
             0.2222222222222222,
             "#7201a8"
            ],
            [
             0.3333333333333333,
             "#9c179e"
            ],
            [
             0.4444444444444444,
             "#bd3786"
            ],
            [
             0.5555555555555556,
             "#d8576b"
            ],
            [
             0.6666666666666666,
             "#ed7953"
            ],
            [
             0.7777777777777778,
             "#fb9f3a"
            ],
            [
             0.8888888888888888,
             "#fdca26"
            ],
            [
             1,
             "#f0f921"
            ]
           ]
          },
          "colorway": [
           "#636efa",
           "#EF553B",
           "#00cc96",
           "#ab63fa",
           "#FFA15A",
           "#19d3f3",
           "#FF6692",
           "#B6E880",
           "#FF97FF",
           "#FECB52"
          ],
          "font": {
           "color": "#2a3f5f"
          },
          "geo": {
           "bgcolor": "white",
           "lakecolor": "white",
           "landcolor": "#E5ECF6",
           "showlakes": true,
           "showland": true,
           "subunitcolor": "white"
          },
          "hoverlabel": {
           "align": "left"
          },
          "hovermode": "closest",
          "mapbox": {
           "style": "light"
          },
          "paper_bgcolor": "white",
          "plot_bgcolor": "#E5ECF6",
          "polar": {
           "angularaxis": {
            "gridcolor": "white",
            "linecolor": "white",
            "ticks": ""
           },
           "bgcolor": "#E5ECF6",
           "radialaxis": {
            "gridcolor": "white",
            "linecolor": "white",
            "ticks": ""
           }
          },
          "scene": {
           "xaxis": {
            "backgroundcolor": "#E5ECF6",
            "gridcolor": "white",
            "gridwidth": 2,
            "linecolor": "white",
            "showbackground": true,
            "ticks": "",
            "zerolinecolor": "white"
           },
           "yaxis": {
            "backgroundcolor": "#E5ECF6",
            "gridcolor": "white",
            "gridwidth": 2,
            "linecolor": "white",
            "showbackground": true,
            "ticks": "",
            "zerolinecolor": "white"
           },
           "zaxis": {
            "backgroundcolor": "#E5ECF6",
            "gridcolor": "white",
            "gridwidth": 2,
            "linecolor": "white",
            "showbackground": true,
            "ticks": "",
            "zerolinecolor": "white"
           }
          },
          "shapedefaults": {
           "line": {
            "color": "#2a3f5f"
           }
          },
          "ternary": {
           "aaxis": {
            "gridcolor": "white",
            "linecolor": "white",
            "ticks": ""
           },
           "baxis": {
            "gridcolor": "white",
            "linecolor": "white",
            "ticks": ""
           },
           "bgcolor": "#E5ECF6",
           "caxis": {
            "gridcolor": "white",
            "linecolor": "white",
            "ticks": ""
           }
          },
          "title": {
           "x": 0.05
          },
          "xaxis": {
           "automargin": true,
           "gridcolor": "white",
           "linecolor": "white",
           "ticks": "",
           "title": {
            "standoff": 15
           },
           "zerolinecolor": "white",
           "zerolinewidth": 2
          },
          "yaxis": {
           "automargin": true,
           "gridcolor": "white",
           "linecolor": "white",
           "ticks": "",
           "title": {
            "standoff": 15
           },
           "zerolinecolor": "white",
           "zerolinewidth": 2
          }
         }
        },
        "title": {
         "text": "Number of Tested people"
        },
        "xaxis": {
         "anchor": "y",
         "domain": [
          0,
          1
         ],
         "title": {
          "text": "Date"
         }
        },
        "yaxis": {
         "anchor": "x",
         "domain": [
          0,
          1
         ],
         "title": {
          "text": "Number of Tested people"
         }
        }
       }
      }
     },
     "metadata": {},
     "output_type": "display_data"
    }
   ],
   "source": [
    "# Draw bar chart for Tested column\n",
    "fig= px.bar(\n",
    "    df_dom,\n",
    "    y= 'Tested',\n",
    "    color= 'Tested',\n",
    "    title= 'Number of Tested people',\n",
    "    labels= {'Tested': 'Number of Tested people'}\n",
    ")\n",
    "fig.show()"
   ]
  },
  {
   "cell_type": "code",
   "execution_count": 88,
   "metadata": {},
   "outputs": [
    {
     "data": {
      "text/html": [
       "<div>\n",
       "<style scoped>\n",
       "    .dataframe tbody tr th:only-of-type {\n",
       "        vertical-align: middle;\n",
       "    }\n",
       "\n",
       "    .dataframe tbody tr th {\n",
       "        vertical-align: top;\n",
       "    }\n",
       "\n",
       "    .dataframe thead th {\n",
       "        text-align: right;\n",
       "    }\n",
       "</style>\n",
       "<table border=\"1\" class=\"dataframe\">\n",
       "  <thead>\n",
       "    <tr style=\"text-align: right;\">\n",
       "      <th></th>\n",
       "      <th>Positive</th>\n",
       "      <th>Tested</th>\n",
       "      <th>Hospitalization</th>\n",
       "      <th>Severe</th>\n",
       "      <th>Discharged</th>\n",
       "      <th>Deaths</th>\n",
       "    </tr>\n",
       "    <tr>\n",
       "      <th>Date</th>\n",
       "      <th></th>\n",
       "      <th></th>\n",
       "      <th></th>\n",
       "      <th></th>\n",
       "      <th></th>\n",
       "      <th></th>\n",
       "    </tr>\n",
       "  </thead>\n",
       "  <tbody>\n",
       "    <tr>\n",
       "      <th>2021-08-22</th>\n",
       "      <td>1273652</td>\n",
       "      <td>19651418</td>\n",
       "      <td>203540</td>\n",
       "      <td>1891</td>\n",
       "      <td>1048617</td>\n",
       "      <td>15589</td>\n",
       "    </tr>\n",
       "  </tbody>\n",
       "</table>\n",
       "</div>"
      ],
      "text/plain": [
       "            Positive    Tested  Hospitalization  Severe  Discharged  Deaths\n",
       "Date                                                                       \n",
       "2021-08-22   1273652  19651418           203540    1891     1048617   15589"
      ]
     },
     "execution_count": 88,
     "metadata": {},
     "output_type": "execute_result"
    }
   ],
   "source": [
    "# get data in lastest day\n",
    "df_latest= df_dom.head(1)\n",
    "df_latest"
   ]
  },
  {
   "cell_type": "code",
   "execution_count": 89,
   "metadata": {},
   "outputs": [
    {
     "data": {
      "application/vnd.plotly.v1+json": {
       "config": {
        "plotlyServerURL": "https://plot.ly"
       },
       "data": [
        {
         "labels": [
          "Positive",
          "Tested",
          "Hospitalization",
          "Severe",
          "Discharged",
          "Deaths"
         ],
         "pull": [
          0.3,
          0
         ],
         "title": {
          "text": "Current situation in JP 2021-08-22"
         },
         "type": "pie",
         "values": [
          1273652,
          19651418,
          203540,
          1891,
          1048617,
          15589
         ]
        }
       ],
       "layout": {
        "template": {
         "data": {
          "bar": [
           {
            "error_x": {
             "color": "#2a3f5f"
            },
            "error_y": {
             "color": "#2a3f5f"
            },
            "marker": {
             "line": {
              "color": "#E5ECF6",
              "width": 0.5
             },
             "pattern": {
              "fillmode": "overlay",
              "size": 10,
              "solidity": 0.2
             }
            },
            "type": "bar"
           }
          ],
          "barpolar": [
           {
            "marker": {
             "line": {
              "color": "#E5ECF6",
              "width": 0.5
             },
             "pattern": {
              "fillmode": "overlay",
              "size": 10,
              "solidity": 0.2
             }
            },
            "type": "barpolar"
           }
          ],
          "carpet": [
           {
            "aaxis": {
             "endlinecolor": "#2a3f5f",
             "gridcolor": "white",
             "linecolor": "white",
             "minorgridcolor": "white",
             "startlinecolor": "#2a3f5f"
            },
            "baxis": {
             "endlinecolor": "#2a3f5f",
             "gridcolor": "white",
             "linecolor": "white",
             "minorgridcolor": "white",
             "startlinecolor": "#2a3f5f"
            },
            "type": "carpet"
           }
          ],
          "choropleth": [
           {
            "colorbar": {
             "outlinewidth": 0,
             "ticks": ""
            },
            "type": "choropleth"
           }
          ],
          "contour": [
           {
            "colorbar": {
             "outlinewidth": 0,
             "ticks": ""
            },
            "colorscale": [
             [
              0,
              "#0d0887"
             ],
             [
              0.1111111111111111,
              "#46039f"
             ],
             [
              0.2222222222222222,
              "#7201a8"
             ],
             [
              0.3333333333333333,
              "#9c179e"
             ],
             [
              0.4444444444444444,
              "#bd3786"
             ],
             [
              0.5555555555555556,
              "#d8576b"
             ],
             [
              0.6666666666666666,
              "#ed7953"
             ],
             [
              0.7777777777777778,
              "#fb9f3a"
             ],
             [
              0.8888888888888888,
              "#fdca26"
             ],
             [
              1,
              "#f0f921"
             ]
            ],
            "type": "contour"
           }
          ],
          "contourcarpet": [
           {
            "colorbar": {
             "outlinewidth": 0,
             "ticks": ""
            },
            "type": "contourcarpet"
           }
          ],
          "heatmap": [
           {
            "colorbar": {
             "outlinewidth": 0,
             "ticks": ""
            },
            "colorscale": [
             [
              0,
              "#0d0887"
             ],
             [
              0.1111111111111111,
              "#46039f"
             ],
             [
              0.2222222222222222,
              "#7201a8"
             ],
             [
              0.3333333333333333,
              "#9c179e"
             ],
             [
              0.4444444444444444,
              "#bd3786"
             ],
             [
              0.5555555555555556,
              "#d8576b"
             ],
             [
              0.6666666666666666,
              "#ed7953"
             ],
             [
              0.7777777777777778,
              "#fb9f3a"
             ],
             [
              0.8888888888888888,
              "#fdca26"
             ],
             [
              1,
              "#f0f921"
             ]
            ],
            "type": "heatmap"
           }
          ],
          "heatmapgl": [
           {
            "colorbar": {
             "outlinewidth": 0,
             "ticks": ""
            },
            "colorscale": [
             [
              0,
              "#0d0887"
             ],
             [
              0.1111111111111111,
              "#46039f"
             ],
             [
              0.2222222222222222,
              "#7201a8"
             ],
             [
              0.3333333333333333,
              "#9c179e"
             ],
             [
              0.4444444444444444,
              "#bd3786"
             ],
             [
              0.5555555555555556,
              "#d8576b"
             ],
             [
              0.6666666666666666,
              "#ed7953"
             ],
             [
              0.7777777777777778,
              "#fb9f3a"
             ],
             [
              0.8888888888888888,
              "#fdca26"
             ],
             [
              1,
              "#f0f921"
             ]
            ],
            "type": "heatmapgl"
           }
          ],
          "histogram": [
           {
            "marker": {
             "pattern": {
              "fillmode": "overlay",
              "size": 10,
              "solidity": 0.2
             }
            },
            "type": "histogram"
           }
          ],
          "histogram2d": [
           {
            "colorbar": {
             "outlinewidth": 0,
             "ticks": ""
            },
            "colorscale": [
             [
              0,
              "#0d0887"
             ],
             [
              0.1111111111111111,
              "#46039f"
             ],
             [
              0.2222222222222222,
              "#7201a8"
             ],
             [
              0.3333333333333333,
              "#9c179e"
             ],
             [
              0.4444444444444444,
              "#bd3786"
             ],
             [
              0.5555555555555556,
              "#d8576b"
             ],
             [
              0.6666666666666666,
              "#ed7953"
             ],
             [
              0.7777777777777778,
              "#fb9f3a"
             ],
             [
              0.8888888888888888,
              "#fdca26"
             ],
             [
              1,
              "#f0f921"
             ]
            ],
            "type": "histogram2d"
           }
          ],
          "histogram2dcontour": [
           {
            "colorbar": {
             "outlinewidth": 0,
             "ticks": ""
            },
            "colorscale": [
             [
              0,
              "#0d0887"
             ],
             [
              0.1111111111111111,
              "#46039f"
             ],
             [
              0.2222222222222222,
              "#7201a8"
             ],
             [
              0.3333333333333333,
              "#9c179e"
             ],
             [
              0.4444444444444444,
              "#bd3786"
             ],
             [
              0.5555555555555556,
              "#d8576b"
             ],
             [
              0.6666666666666666,
              "#ed7953"
             ],
             [
              0.7777777777777778,
              "#fb9f3a"
             ],
             [
              0.8888888888888888,
              "#fdca26"
             ],
             [
              1,
              "#f0f921"
             ]
            ],
            "type": "histogram2dcontour"
           }
          ],
          "mesh3d": [
           {
            "colorbar": {
             "outlinewidth": 0,
             "ticks": ""
            },
            "type": "mesh3d"
           }
          ],
          "parcoords": [
           {
            "line": {
             "colorbar": {
              "outlinewidth": 0,
              "ticks": ""
             }
            },
            "type": "parcoords"
           }
          ],
          "pie": [
           {
            "automargin": true,
            "type": "pie"
           }
          ],
          "scatter": [
           {
            "fillpattern": {
             "fillmode": "overlay",
             "size": 10,
             "solidity": 0.2
            },
            "type": "scatter"
           }
          ],
          "scatter3d": [
           {
            "line": {
             "colorbar": {
              "outlinewidth": 0,
              "ticks": ""
             }
            },
            "marker": {
             "colorbar": {
              "outlinewidth": 0,
              "ticks": ""
             }
            },
            "type": "scatter3d"
           }
          ],
          "scattercarpet": [
           {
            "marker": {
             "colorbar": {
              "outlinewidth": 0,
              "ticks": ""
             }
            },
            "type": "scattercarpet"
           }
          ],
          "scattergeo": [
           {
            "marker": {
             "colorbar": {
              "outlinewidth": 0,
              "ticks": ""
             }
            },
            "type": "scattergeo"
           }
          ],
          "scattergl": [
           {
            "marker": {
             "colorbar": {
              "outlinewidth": 0,
              "ticks": ""
             }
            },
            "type": "scattergl"
           }
          ],
          "scattermapbox": [
           {
            "marker": {
             "colorbar": {
              "outlinewidth": 0,
              "ticks": ""
             }
            },
            "type": "scattermapbox"
           }
          ],
          "scatterpolar": [
           {
            "marker": {
             "colorbar": {
              "outlinewidth": 0,
              "ticks": ""
             }
            },
            "type": "scatterpolar"
           }
          ],
          "scatterpolargl": [
           {
            "marker": {
             "colorbar": {
              "outlinewidth": 0,
              "ticks": ""
             }
            },
            "type": "scatterpolargl"
           }
          ],
          "scatterternary": [
           {
            "marker": {
             "colorbar": {
              "outlinewidth": 0,
              "ticks": ""
             }
            },
            "type": "scatterternary"
           }
          ],
          "surface": [
           {
            "colorbar": {
             "outlinewidth": 0,
             "ticks": ""
            },
            "colorscale": [
             [
              0,
              "#0d0887"
             ],
             [
              0.1111111111111111,
              "#46039f"
             ],
             [
              0.2222222222222222,
              "#7201a8"
             ],
             [
              0.3333333333333333,
              "#9c179e"
             ],
             [
              0.4444444444444444,
              "#bd3786"
             ],
             [
              0.5555555555555556,
              "#d8576b"
             ],
             [
              0.6666666666666666,
              "#ed7953"
             ],
             [
              0.7777777777777778,
              "#fb9f3a"
             ],
             [
              0.8888888888888888,
              "#fdca26"
             ],
             [
              1,
              "#f0f921"
             ]
            ],
            "type": "surface"
           }
          ],
          "table": [
           {
            "cells": {
             "fill": {
              "color": "#EBF0F8"
             },
             "line": {
              "color": "white"
             }
            },
            "header": {
             "fill": {
              "color": "#C8D4E3"
             },
             "line": {
              "color": "white"
             }
            },
            "type": "table"
           }
          ]
         },
         "layout": {
          "annotationdefaults": {
           "arrowcolor": "#2a3f5f",
           "arrowhead": 0,
           "arrowwidth": 1
          },
          "autotypenumbers": "strict",
          "coloraxis": {
           "colorbar": {
            "outlinewidth": 0,
            "ticks": ""
           }
          },
          "colorscale": {
           "diverging": [
            [
             0,
             "#8e0152"
            ],
            [
             0.1,
             "#c51b7d"
            ],
            [
             0.2,
             "#de77ae"
            ],
            [
             0.3,
             "#f1b6da"
            ],
            [
             0.4,
             "#fde0ef"
            ],
            [
             0.5,
             "#f7f7f7"
            ],
            [
             0.6,
             "#e6f5d0"
            ],
            [
             0.7,
             "#b8e186"
            ],
            [
             0.8,
             "#7fbc41"
            ],
            [
             0.9,
             "#4d9221"
            ],
            [
             1,
             "#276419"
            ]
           ],
           "sequential": [
            [
             0,
             "#0d0887"
            ],
            [
             0.1111111111111111,
             "#46039f"
            ],
            [
             0.2222222222222222,
             "#7201a8"
            ],
            [
             0.3333333333333333,
             "#9c179e"
            ],
            [
             0.4444444444444444,
             "#bd3786"
            ],
            [
             0.5555555555555556,
             "#d8576b"
            ],
            [
             0.6666666666666666,
             "#ed7953"
            ],
            [
             0.7777777777777778,
             "#fb9f3a"
            ],
            [
             0.8888888888888888,
             "#fdca26"
            ],
            [
             1,
             "#f0f921"
            ]
           ],
           "sequentialminus": [
            [
             0,
             "#0d0887"
            ],
            [
             0.1111111111111111,
             "#46039f"
            ],
            [
             0.2222222222222222,
             "#7201a8"
            ],
            [
             0.3333333333333333,
             "#9c179e"
            ],
            [
             0.4444444444444444,
             "#bd3786"
            ],
            [
             0.5555555555555556,
             "#d8576b"
            ],
            [
             0.6666666666666666,
             "#ed7953"
            ],
            [
             0.7777777777777778,
             "#fb9f3a"
            ],
            [
             0.8888888888888888,
             "#fdca26"
            ],
            [
             1,
             "#f0f921"
            ]
           ]
          },
          "colorway": [
           "#636efa",
           "#EF553B",
           "#00cc96",
           "#ab63fa",
           "#FFA15A",
           "#19d3f3",
           "#FF6692",
           "#B6E880",
           "#FF97FF",
           "#FECB52"
          ],
          "font": {
           "color": "#2a3f5f"
          },
          "geo": {
           "bgcolor": "white",
           "lakecolor": "white",
           "landcolor": "#E5ECF6",
           "showlakes": true,
           "showland": true,
           "subunitcolor": "white"
          },
          "hoverlabel": {
           "align": "left"
          },
          "hovermode": "closest",
          "mapbox": {
           "style": "light"
          },
          "paper_bgcolor": "white",
          "plot_bgcolor": "#E5ECF6",
          "polar": {
           "angularaxis": {
            "gridcolor": "white",
            "linecolor": "white",
            "ticks": ""
           },
           "bgcolor": "#E5ECF6",
           "radialaxis": {
            "gridcolor": "white",
            "linecolor": "white",
            "ticks": ""
           }
          },
          "scene": {
           "xaxis": {
            "backgroundcolor": "#E5ECF6",
            "gridcolor": "white",
            "gridwidth": 2,
            "linecolor": "white",
            "showbackground": true,
            "ticks": "",
            "zerolinecolor": "white"
           },
           "yaxis": {
            "backgroundcolor": "#E5ECF6",
            "gridcolor": "white",
            "gridwidth": 2,
            "linecolor": "white",
            "showbackground": true,
            "ticks": "",
            "zerolinecolor": "white"
           },
           "zaxis": {
            "backgroundcolor": "#E5ECF6",
            "gridcolor": "white",
            "gridwidth": 2,
            "linecolor": "white",
            "showbackground": true,
            "ticks": "",
            "zerolinecolor": "white"
           }
          },
          "shapedefaults": {
           "line": {
            "color": "#2a3f5f"
           }
          },
          "ternary": {
           "aaxis": {
            "gridcolor": "white",
            "linecolor": "white",
            "ticks": ""
           },
           "baxis": {
            "gridcolor": "white",
            "linecolor": "white",
            "ticks": ""
           },
           "bgcolor": "#E5ECF6",
           "caxis": {
            "gridcolor": "white",
            "linecolor": "white",
            "ticks": ""
           }
          },
          "title": {
           "x": 0.05
          },
          "xaxis": {
           "automargin": true,
           "gridcolor": "white",
           "linecolor": "white",
           "ticks": "",
           "title": {
            "standoff": 15
           },
           "zerolinecolor": "white",
           "zerolinewidth": 2
          },
          "yaxis": {
           "automargin": true,
           "gridcolor": "white",
           "linecolor": "white",
           "ticks": "",
           "title": {
            "standoff": 15
           },
           "zerolinecolor": "white",
           "zerolinewidth": 2
          }
         }
        }
       }
      }
     },
     "metadata": {},
     "output_type": "display_data"
    }
   ],
   "source": [
    "# Draw pie with pull-out function\n",
    "fig= go.Figure(\n",
    "    data= [\n",
    "        go.Pie(\n",
    "            labels= df_latest.columns.to_list(),\n",
    "            values= np.array(df_latest)[0],\n",
    "            pull= [0.3,0],\n",
    "            title= 'Current situation in JP 2021-08-22'\n",
    "        )\n",
    "    ]\n",
    ")\n",
    "fig.show()"
   ]
  },
  {
   "cell_type": "code",
   "execution_count": 90,
   "metadata": {},
   "outputs": [
    {
     "name": "stderr",
     "output_type": "stream",
     "text": [
      "C:\\Users\\Admin\\AppData\\Local\\Temp\\ipykernel_12324\\1650627748.py:2: SettingWithCopyWarning:\n",
      "\n",
      "\n",
      "A value is trying to be set on a copy of a slice from a DataFrame\n",
      "\n",
      "See the caveats in the documentation: https://pandas.pydata.org/pandas-docs/stable/user_guide/indexing.html#returning-a-view-versus-a-copy\n",
      "\n"
     ]
    },
    {
     "data": {
      "text/html": [
       "<style type=\"text/css\">\n",
       "#T_d353e_row0_col0 {\n",
       "  background-color: #0d0887;\n",
       "  color: #f1f1f1;\n",
       "}\n",
       "#T_d353e_row1_col0 {\n",
       "  background-color: #6100a7;\n",
       "  color: #f1f1f1;\n",
       "}\n",
       "#T_d353e_row2_col0 {\n",
       "  background-color: #feb72d;\n",
       "  color: #000000;\n",
       "}\n",
       "#T_d353e_row3_col0 {\n",
       "  background-color: #f1f525;\n",
       "  color: #000000;\n",
       "}\n",
       "#T_d353e_row4_col0 {\n",
       "  background-color: #f0f921;\n",
       "  color: #000000;\n",
       "}\n",
       "</style>\n",
       "<table id=\"T_d353e\">\n",
       "  <thead>\n",
       "    <tr>\n",
       "      <th class=\"blank level0\" >&nbsp;</th>\n",
       "      <th id=\"T_d353e_level0_col0\" class=\"col_heading level0 col0\" >Cases</th>\n",
       "    </tr>\n",
       "  </thead>\n",
       "  <tbody>\n",
       "    <tr>\n",
       "      <th id=\"T_d353e_level0_row0\" class=\"row_heading level0 row0\" >Positive</th>\n",
       "      <td id=\"T_d353e_row0_col0\" class=\"data row0 col0\" >1273652</td>\n",
       "    </tr>\n",
       "    <tr>\n",
       "      <th id=\"T_d353e_level0_row1\" class=\"row_heading level0 row1\" >Deaths</th>\n",
       "      <td id=\"T_d353e_row1_col0\" class=\"data row1 col0\" >1048617</td>\n",
       "    </tr>\n",
       "    <tr>\n",
       "      <th id=\"T_d353e_level0_row2\" class=\"row_heading level0 row2\" >Hospitalization</th>\n",
       "      <td id=\"T_d353e_row2_col0\" class=\"data row2 col0\" >203540</td>\n",
       "    </tr>\n",
       "    <tr>\n",
       "      <th id=\"T_d353e_level0_row3\" class=\"row_heading level0 row3\" >Discharged</th>\n",
       "      <td id=\"T_d353e_row3_col0\" class=\"data row3 col0\" >15589</td>\n",
       "    </tr>\n",
       "    <tr>\n",
       "      <th id=\"T_d353e_level0_row4\" class=\"row_heading level0 row4\" >Severe</th>\n",
       "      <td id=\"T_d353e_row4_col0\" class=\"data row4 col0\" >1891</td>\n",
       "    </tr>\n",
       "  </tbody>\n",
       "</table>\n"
      ],
      "text/plain": [
       "<pandas.io.formats.style.Styler at 0x20ae3570970>"
      ]
     },
     "execution_count": 90,
     "metadata": {},
     "output_type": "execute_result"
    }
   ],
   "source": [
    "# reset index and transpose data\n",
    "df_latest.drop(['Tested'], axis=1, inplace= True)\n",
    "df_latest= df_latest.reset_index(drop= True)\n",
    "df_latest= pd.DataFrame(\n",
    "    df_latest.T.values, \n",
    "    columns= ['Cases'],\n",
    "    index= ['Positive', 'Hospitalization', 'Severe', 'Deaths', 'Discharged']\n",
    "    )\n",
    "df_latest.sort_values(['Cases'], ascending= False, inplace= True)\n",
    "df_latest.style.background_gradient(cmap= 'plasma_r')"
   ]
  },
  {
   "cell_type": "code",
   "execution_count": 91,
   "metadata": {},
   "outputs": [
    {
     "data": {
      "application/vnd.plotly.v1+json": {
       "config": {
        "plotlyServerURL": "https://plot.ly"
       },
       "data": [
        {
         "alignmentgroup": "True",
         "hovertemplate": "index=%{x}<br>Number of people=%{marker.color}<extra></extra>",
         "legendgroup": "",
         "marker": {
          "color": [
           1273652,
           1048617,
           203540,
           15589,
           1891
          ],
          "coloraxis": "coloraxis",
          "pattern": {
           "shape": ""
          }
         },
         "name": "",
         "offsetgroup": "",
         "orientation": "v",
         "showlegend": false,
         "textposition": "auto",
         "type": "bar",
         "x": [
          "Positive",
          "Deaths",
          "Hospitalization",
          "Discharged",
          "Severe"
         ],
         "xaxis": "x",
         "y": [
          1273652,
          1048617,
          203540,
          15589,
          1891
         ],
         "yaxis": "y"
        }
       ],
       "layout": {
        "barmode": "relative",
        "coloraxis": {
         "colorbar": {
          "title": {
           "text": "Number of people"
          }
         },
         "colorscale": [
          [
           0,
           "#0d0887"
          ],
          [
           0.1111111111111111,
           "#46039f"
          ],
          [
           0.2222222222222222,
           "#7201a8"
          ],
          [
           0.3333333333333333,
           "#9c179e"
          ],
          [
           0.4444444444444444,
           "#bd3786"
          ],
          [
           0.5555555555555556,
           "#d8576b"
          ],
          [
           0.6666666666666666,
           "#ed7953"
          ],
          [
           0.7777777777777778,
           "#fb9f3a"
          ],
          [
           0.8888888888888888,
           "#fdca26"
          ],
          [
           1,
           "#f0f921"
          ]
         ]
        },
        "legend": {
         "tracegroupgap": 0
        },
        "template": {
         "data": {
          "bar": [
           {
            "error_x": {
             "color": "#2a3f5f"
            },
            "error_y": {
             "color": "#2a3f5f"
            },
            "marker": {
             "line": {
              "color": "#E5ECF6",
              "width": 0.5
             },
             "pattern": {
              "fillmode": "overlay",
              "size": 10,
              "solidity": 0.2
             }
            },
            "type": "bar"
           }
          ],
          "barpolar": [
           {
            "marker": {
             "line": {
              "color": "#E5ECF6",
              "width": 0.5
             },
             "pattern": {
              "fillmode": "overlay",
              "size": 10,
              "solidity": 0.2
             }
            },
            "type": "barpolar"
           }
          ],
          "carpet": [
           {
            "aaxis": {
             "endlinecolor": "#2a3f5f",
             "gridcolor": "white",
             "linecolor": "white",
             "minorgridcolor": "white",
             "startlinecolor": "#2a3f5f"
            },
            "baxis": {
             "endlinecolor": "#2a3f5f",
             "gridcolor": "white",
             "linecolor": "white",
             "minorgridcolor": "white",
             "startlinecolor": "#2a3f5f"
            },
            "type": "carpet"
           }
          ],
          "choropleth": [
           {
            "colorbar": {
             "outlinewidth": 0,
             "ticks": ""
            },
            "type": "choropleth"
           }
          ],
          "contour": [
           {
            "colorbar": {
             "outlinewidth": 0,
             "ticks": ""
            },
            "colorscale": [
             [
              0,
              "#0d0887"
             ],
             [
              0.1111111111111111,
              "#46039f"
             ],
             [
              0.2222222222222222,
              "#7201a8"
             ],
             [
              0.3333333333333333,
              "#9c179e"
             ],
             [
              0.4444444444444444,
              "#bd3786"
             ],
             [
              0.5555555555555556,
              "#d8576b"
             ],
             [
              0.6666666666666666,
              "#ed7953"
             ],
             [
              0.7777777777777778,
              "#fb9f3a"
             ],
             [
              0.8888888888888888,
              "#fdca26"
             ],
             [
              1,
              "#f0f921"
             ]
            ],
            "type": "contour"
           }
          ],
          "contourcarpet": [
           {
            "colorbar": {
             "outlinewidth": 0,
             "ticks": ""
            },
            "type": "contourcarpet"
           }
          ],
          "heatmap": [
           {
            "colorbar": {
             "outlinewidth": 0,
             "ticks": ""
            },
            "colorscale": [
             [
              0,
              "#0d0887"
             ],
             [
              0.1111111111111111,
              "#46039f"
             ],
             [
              0.2222222222222222,
              "#7201a8"
             ],
             [
              0.3333333333333333,
              "#9c179e"
             ],
             [
              0.4444444444444444,
              "#bd3786"
             ],
             [
              0.5555555555555556,
              "#d8576b"
             ],
             [
              0.6666666666666666,
              "#ed7953"
             ],
             [
              0.7777777777777778,
              "#fb9f3a"
             ],
             [
              0.8888888888888888,
              "#fdca26"
             ],
             [
              1,
              "#f0f921"
             ]
            ],
            "type": "heatmap"
           }
          ],
          "heatmapgl": [
           {
            "colorbar": {
             "outlinewidth": 0,
             "ticks": ""
            },
            "colorscale": [
             [
              0,
              "#0d0887"
             ],
             [
              0.1111111111111111,
              "#46039f"
             ],
             [
              0.2222222222222222,
              "#7201a8"
             ],
             [
              0.3333333333333333,
              "#9c179e"
             ],
             [
              0.4444444444444444,
              "#bd3786"
             ],
             [
              0.5555555555555556,
              "#d8576b"
             ],
             [
              0.6666666666666666,
              "#ed7953"
             ],
             [
              0.7777777777777778,
              "#fb9f3a"
             ],
             [
              0.8888888888888888,
              "#fdca26"
             ],
             [
              1,
              "#f0f921"
             ]
            ],
            "type": "heatmapgl"
           }
          ],
          "histogram": [
           {
            "marker": {
             "pattern": {
              "fillmode": "overlay",
              "size": 10,
              "solidity": 0.2
             }
            },
            "type": "histogram"
           }
          ],
          "histogram2d": [
           {
            "colorbar": {
             "outlinewidth": 0,
             "ticks": ""
            },
            "colorscale": [
             [
              0,
              "#0d0887"
             ],
             [
              0.1111111111111111,
              "#46039f"
             ],
             [
              0.2222222222222222,
              "#7201a8"
             ],
             [
              0.3333333333333333,
              "#9c179e"
             ],
             [
              0.4444444444444444,
              "#bd3786"
             ],
             [
              0.5555555555555556,
              "#d8576b"
             ],
             [
              0.6666666666666666,
              "#ed7953"
             ],
             [
              0.7777777777777778,
              "#fb9f3a"
             ],
             [
              0.8888888888888888,
              "#fdca26"
             ],
             [
              1,
              "#f0f921"
             ]
            ],
            "type": "histogram2d"
           }
          ],
          "histogram2dcontour": [
           {
            "colorbar": {
             "outlinewidth": 0,
             "ticks": ""
            },
            "colorscale": [
             [
              0,
              "#0d0887"
             ],
             [
              0.1111111111111111,
              "#46039f"
             ],
             [
              0.2222222222222222,
              "#7201a8"
             ],
             [
              0.3333333333333333,
              "#9c179e"
             ],
             [
              0.4444444444444444,
              "#bd3786"
             ],
             [
              0.5555555555555556,
              "#d8576b"
             ],
             [
              0.6666666666666666,
              "#ed7953"
             ],
             [
              0.7777777777777778,
              "#fb9f3a"
             ],
             [
              0.8888888888888888,
              "#fdca26"
             ],
             [
              1,
              "#f0f921"
             ]
            ],
            "type": "histogram2dcontour"
           }
          ],
          "mesh3d": [
           {
            "colorbar": {
             "outlinewidth": 0,
             "ticks": ""
            },
            "type": "mesh3d"
           }
          ],
          "parcoords": [
           {
            "line": {
             "colorbar": {
              "outlinewidth": 0,
              "ticks": ""
             }
            },
            "type": "parcoords"
           }
          ],
          "pie": [
           {
            "automargin": true,
            "type": "pie"
           }
          ],
          "scatter": [
           {
            "fillpattern": {
             "fillmode": "overlay",
             "size": 10,
             "solidity": 0.2
            },
            "type": "scatter"
           }
          ],
          "scatter3d": [
           {
            "line": {
             "colorbar": {
              "outlinewidth": 0,
              "ticks": ""
             }
            },
            "marker": {
             "colorbar": {
              "outlinewidth": 0,
              "ticks": ""
             }
            },
            "type": "scatter3d"
           }
          ],
          "scattercarpet": [
           {
            "marker": {
             "colorbar": {
              "outlinewidth": 0,
              "ticks": ""
             }
            },
            "type": "scattercarpet"
           }
          ],
          "scattergeo": [
           {
            "marker": {
             "colorbar": {
              "outlinewidth": 0,
              "ticks": ""
             }
            },
            "type": "scattergeo"
           }
          ],
          "scattergl": [
           {
            "marker": {
             "colorbar": {
              "outlinewidth": 0,
              "ticks": ""
             }
            },
            "type": "scattergl"
           }
          ],
          "scattermapbox": [
           {
            "marker": {
             "colorbar": {
              "outlinewidth": 0,
              "ticks": ""
             }
            },
            "type": "scattermapbox"
           }
          ],
          "scatterpolar": [
           {
            "marker": {
             "colorbar": {
              "outlinewidth": 0,
              "ticks": ""
             }
            },
            "type": "scatterpolar"
           }
          ],
          "scatterpolargl": [
           {
            "marker": {
             "colorbar": {
              "outlinewidth": 0,
              "ticks": ""
             }
            },
            "type": "scatterpolargl"
           }
          ],
          "scatterternary": [
           {
            "marker": {
             "colorbar": {
              "outlinewidth": 0,
              "ticks": ""
             }
            },
            "type": "scatterternary"
           }
          ],
          "surface": [
           {
            "colorbar": {
             "outlinewidth": 0,
             "ticks": ""
            },
            "colorscale": [
             [
              0,
              "#0d0887"
             ],
             [
              0.1111111111111111,
              "#46039f"
             ],
             [
              0.2222222222222222,
              "#7201a8"
             ],
             [
              0.3333333333333333,
              "#9c179e"
             ],
             [
              0.4444444444444444,
              "#bd3786"
             ],
             [
              0.5555555555555556,
              "#d8576b"
             ],
             [
              0.6666666666666666,
              "#ed7953"
             ],
             [
              0.7777777777777778,
              "#fb9f3a"
             ],
             [
              0.8888888888888888,
              "#fdca26"
             ],
             [
              1,
              "#f0f921"
             ]
            ],
            "type": "surface"
           }
          ],
          "table": [
           {
            "cells": {
             "fill": {
              "color": "#EBF0F8"
             },
             "line": {
              "color": "white"
             }
            },
            "header": {
             "fill": {
              "color": "#C8D4E3"
             },
             "line": {
              "color": "white"
             }
            },
            "type": "table"
           }
          ]
         },
         "layout": {
          "annotationdefaults": {
           "arrowcolor": "#2a3f5f",
           "arrowhead": 0,
           "arrowwidth": 1
          },
          "autotypenumbers": "strict",
          "coloraxis": {
           "colorbar": {
            "outlinewidth": 0,
            "ticks": ""
           }
          },
          "colorscale": {
           "diverging": [
            [
             0,
             "#8e0152"
            ],
            [
             0.1,
             "#c51b7d"
            ],
            [
             0.2,
             "#de77ae"
            ],
            [
             0.3,
             "#f1b6da"
            ],
            [
             0.4,
             "#fde0ef"
            ],
            [
             0.5,
             "#f7f7f7"
            ],
            [
             0.6,
             "#e6f5d0"
            ],
            [
             0.7,
             "#b8e186"
            ],
            [
             0.8,
             "#7fbc41"
            ],
            [
             0.9,
             "#4d9221"
            ],
            [
             1,
             "#276419"
            ]
           ],
           "sequential": [
            [
             0,
             "#0d0887"
            ],
            [
             0.1111111111111111,
             "#46039f"
            ],
            [
             0.2222222222222222,
             "#7201a8"
            ],
            [
             0.3333333333333333,
             "#9c179e"
            ],
            [
             0.4444444444444444,
             "#bd3786"
            ],
            [
             0.5555555555555556,
             "#d8576b"
            ],
            [
             0.6666666666666666,
             "#ed7953"
            ],
            [
             0.7777777777777778,
             "#fb9f3a"
            ],
            [
             0.8888888888888888,
             "#fdca26"
            ],
            [
             1,
             "#f0f921"
            ]
           ],
           "sequentialminus": [
            [
             0,
             "#0d0887"
            ],
            [
             0.1111111111111111,
             "#46039f"
            ],
            [
             0.2222222222222222,
             "#7201a8"
            ],
            [
             0.3333333333333333,
             "#9c179e"
            ],
            [
             0.4444444444444444,
             "#bd3786"
            ],
            [
             0.5555555555555556,
             "#d8576b"
            ],
            [
             0.6666666666666666,
             "#ed7953"
            ],
            [
             0.7777777777777778,
             "#fb9f3a"
            ],
            [
             0.8888888888888888,
             "#fdca26"
            ],
            [
             1,
             "#f0f921"
            ]
           ]
          },
          "colorway": [
           "#636efa",
           "#EF553B",
           "#00cc96",
           "#ab63fa",
           "#FFA15A",
           "#19d3f3",
           "#FF6692",
           "#B6E880",
           "#FF97FF",
           "#FECB52"
          ],
          "font": {
           "color": "#2a3f5f"
          },
          "geo": {
           "bgcolor": "white",
           "lakecolor": "white",
           "landcolor": "#E5ECF6",
           "showlakes": true,
           "showland": true,
           "subunitcolor": "white"
          },
          "hoverlabel": {
           "align": "left"
          },
          "hovermode": "closest",
          "mapbox": {
           "style": "light"
          },
          "paper_bgcolor": "white",
          "plot_bgcolor": "#E5ECF6",
          "polar": {
           "angularaxis": {
            "gridcolor": "white",
            "linecolor": "white",
            "ticks": ""
           },
           "bgcolor": "#E5ECF6",
           "radialaxis": {
            "gridcolor": "white",
            "linecolor": "white",
            "ticks": ""
           }
          },
          "scene": {
           "xaxis": {
            "backgroundcolor": "#E5ECF6",
            "gridcolor": "white",
            "gridwidth": 2,
            "linecolor": "white",
            "showbackground": true,
            "ticks": "",
            "zerolinecolor": "white"
           },
           "yaxis": {
            "backgroundcolor": "#E5ECF6",
            "gridcolor": "white",
            "gridwidth": 2,
            "linecolor": "white",
            "showbackground": true,
            "ticks": "",
            "zerolinecolor": "white"
           },
           "zaxis": {
            "backgroundcolor": "#E5ECF6",
            "gridcolor": "white",
            "gridwidth": 2,
            "linecolor": "white",
            "showbackground": true,
            "ticks": "",
            "zerolinecolor": "white"
           }
          },
          "shapedefaults": {
           "line": {
            "color": "#2a3f5f"
           }
          },
          "ternary": {
           "aaxis": {
            "gridcolor": "white",
            "linecolor": "white",
            "ticks": ""
           },
           "baxis": {
            "gridcolor": "white",
            "linecolor": "white",
            "ticks": ""
           },
           "bgcolor": "#E5ECF6",
           "caxis": {
            "gridcolor": "white",
            "linecolor": "white",
            "ticks": ""
           }
          },
          "title": {
           "x": 0.05
          },
          "xaxis": {
           "automargin": true,
           "gridcolor": "white",
           "linecolor": "white",
           "ticks": "",
           "title": {
            "standoff": 15
           },
           "zerolinecolor": "white",
           "zerolinewidth": 2
          },
          "yaxis": {
           "automargin": true,
           "gridcolor": "white",
           "linecolor": "white",
           "ticks": "",
           "title": {
            "standoff": 15
           },
           "zerolinecolor": "white",
           "zerolinewidth": 2
          }
         }
        },
        "title": {
         "text": "Infomation in latest day"
        },
        "xaxis": {
         "anchor": "y",
         "domain": [
          0,
          1
         ],
         "title": {
          "text": "index"
         }
        },
        "yaxis": {
         "anchor": "x",
         "domain": [
          0,
          1
         ],
         "title": {
          "text": "Number of people"
         }
        }
       }
      }
     },
     "metadata": {},
     "output_type": "display_data"
    }
   ],
   "source": [
    "# draw bar chart for df_latest data\n",
    "fig= px.bar(\n",
    "    df_latest,\n",
    "    y= 'Cases',\n",
    "    color= 'Cases',\n",
    "    title= 'Infomation in latest day',\n",
    "    labels= {'Cases': 'Number of people'}\n",
    ")\n",
    "fig.show()"
   ]
  },
  {
   "cell_type": "code",
   "execution_count": null,
   "metadata": {},
   "outputs": [],
   "source": []
  }
 ],
 "metadata": {
  "interpreter": {
   "hash": "6552f091394d53f327b50df433df8ef884fc320df518013c20b2a716a5ca0af2"
  },
  "kernelspec": {
   "display_name": "Python 3.8.13 ('learn_da')",
   "language": "python",
   "name": "python3"
  },
  "language_info": {
   "codemirror_mode": {
    "name": "ipython",
    "version": 3
   },
   "file_extension": ".py",
   "mimetype": "text/x-python",
   "name": "python",
   "nbconvert_exporter": "python",
   "pygments_lexer": "ipython3",
   "version": "3.8.13"
  },
  "orig_nbformat": 4
 },
 "nbformat": 4,
 "nbformat_minor": 2
}
