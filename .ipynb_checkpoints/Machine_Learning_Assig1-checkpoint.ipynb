{
 "cells": [
  {
   "cell_type": "markdown",
   "id": "8a85b13f",
   "metadata": {},
   "source": [
    "# 1. Classification"
   ]
  },
  {
   "cell_type": "code",
   "execution_count": 1,
   "id": "144bf3a6",
   "metadata": {},
   "outputs": [],
   "source": [
    "import pandas as pd\n",
    "from sklearn.preprocessing import LabelEncoder\n",
    "from sklearn.preprocessing import OrdinalEncoder\n",
    "from sklearn.model_selection import  train_test_split\n",
    "from sklearn.tree import DecisionTreeClassifier\n",
    "from sklearn import metrics\n",
    "from sklearn.model_selection import KFold, RepeatedStratifiedKFold\n",
    "from sklearn.model_selection import cross_val_score\n",
    "from sklearn.neighbors import KNeighborsClassifier"
   ]
  },
  {
   "cell_type": "code",
   "execution_count": 2,
   "id": "db4026c5",
   "metadata": {},
   "outputs": [],
   "source": [
    "# load dataset function\n",
    "def load_dataset(filename):\n",
    "    #load data from csv file\n",
    "    df_data= pd.read_csv(filename, header= None)\n",
    "    #convert df to numpy array\n",
    "    dataset= df_data.values\n",
    "    # split dataset into input (X) and output (y)\n",
    "    X = dataset[:, :-1]\n",
    "    y = dataset[:, -1]\n",
    "    # format X to str\n",
    "    X= X.astype(str)\n",
    "    \n",
    "    return X, y"
   ]
  },
  {
   "cell_type": "code",
   "execution_count": 3,
   "id": "d1d019eb",
   "metadata": {},
   "outputs": [],
   "source": [
    "# prepare input function\n",
    "def prepare_input(X_train, X_test):\n",
    "    oe = OrdinalEncoder()\n",
    "    oe.fit(X_train)\n",
    "    X_train_enc= oe.transform(X_train)\n",
    "    X_test_enc= oe.transform(X_test)\n",
    "    \n",
    "    return X_train_enc, X_test_enc"
   ]
  },
  {
   "cell_type": "code",
   "execution_count": 4,
   "id": "2e40f510",
   "metadata": {},
   "outputs": [],
   "source": [
    "# prepare output function\n",
    "def prepare_output(y_train, y_test):\n",
    "    le = LabelEncoder()\n",
    "    le.fit(y_train)\n",
    "    y_train_enc= le.transform(y_train)\n",
    "    y_test_enc= le.transform(y_test)\n",
    "    \n",
    "    return y_train_enc, y_test_enc"
   ]
  },
  {
   "cell_type": "code",
   "execution_count": 5,
   "id": "e9616f00",
   "metadata": {},
   "outputs": [
    {
     "name": "stdout",
     "output_type": "stream",
     "text": [
      "(286, 9)\n"
     ]
    }
   ],
   "source": [
    "# load dataset\n",
    "X, y= load_dataset('breast-cancer.csv')\n",
    "print(X.shape)"
   ]
  },
  {
   "cell_type": "code",
   "execution_count": 6,
   "id": "b85202d1",
   "metadata": {},
   "outputs": [],
   "source": [
    "# split X,y into train and test set\n",
    "X_train, X_test, y_train, y_test = train_test_split(X, y, test_size= 0.3, random_state= 1)"
   ]
  },
  {
   "cell_type": "code",
   "execution_count": 7,
   "id": "a3c5ea94",
   "metadata": {},
   "outputs": [],
   "source": [
    "# prepare input data\n",
    "X_train_enc, X_test_enc= prepare_input(X_train, X_test)"
   ]
  },
  {
   "cell_type": "code",
   "execution_count": 8,
   "id": "784d8d6f",
   "metadata": {},
   "outputs": [],
   "source": [
    "# prepare output data\n",
    "y_train_enc, y_test_enc= prepare_output(y_train, y_test)"
   ]
  },
  {
   "cell_type": "markdown",
   "id": "e63feb05",
   "metadata": {},
   "source": [
    "### 1.1 DecisionTreeClassifier"
   ]
  },
  {
   "cell_type": "code",
   "execution_count": 9,
   "id": "291f7f1a",
   "metadata": {},
   "outputs": [
    {
     "data": {
      "text/plain": [
       "DecisionTreeClassifier()"
      ]
     },
     "execution_count": 9,
     "metadata": {},
     "output_type": "execute_result"
    }
   ],
   "source": [
    "# declare obj of DT model\n",
    "clf= DecisionTreeClassifier()\n",
    "\n",
    "# fit model on train set\n",
    "clf.fit(X_train_enc, y_train_enc)"
   ]
  },
  {
   "cell_type": "code",
   "execution_count": 10,
   "id": "10b78a3e",
   "metadata": {},
   "outputs": [
    {
     "name": "stdout",
     "output_type": "stream",
     "text": [
      "Model acc: 0.686046511627907\n",
      "Model pre: 0.6470588235294118\n",
      "Model rec: 0.34375\n"
     ]
    }
   ],
   "source": [
    "#Evaluate model\n",
    "\n",
    "# predict on test data\n",
    "y_pred= clf.predict(X_test_enc)\n",
    "\n",
    "#model accuracy\n",
    "acc= metrics.accuracy_score(y_test_enc, y_pred)\n",
    "print(f'Model acc: {acc}')\n",
    "#model precision\n",
    "pres= metrics.precision_score(y_test_enc, y_pred)\n",
    "print(f'Model pre: {pres}')\n",
    "#model recall\n",
    "rec= metrics.recall_score(y_test_enc, y_pred)\n",
    "print(f'Model rec: {rec}')"
   ]
  },
  {
   "cell_type": "code",
   "execution_count": 11,
   "id": "14e83fbd",
   "metadata": {},
   "outputs": [
    {
     "name": "stdout",
     "output_type": "stream",
     "text": [
      "0.6536549707602339\n"
     ]
    }
   ],
   "source": [
    "# use cross validation\n",
    "# declare obj of DT model\n",
    "clf= DecisionTreeClassifier()\n",
    "\n",
    "cv= KFold(n_splits= 3, shuffle= True, random_state= 1)\n",
    "\n",
    "# encode data\n",
    "oe= OrdinalEncoder()\n",
    "X_enc= oe.fit_transform(X)\n",
    "le = LabelEncoder()\n",
    "y_enc= le.fit_transform(y)\n",
    "\n",
    "# evaluate model\n",
    "result= cross_val_score(clf, X_enc, y_enc, cv=cv, scoring= 'accuracy')\n",
    "print(result.mean())"
   ]
  },
  {
   "cell_type": "code",
   "execution_count": 12,
   "id": "cd9a4a7d",
   "metadata": {},
   "outputs": [
    {
     "name": "stdout",
     "output_type": "stream",
     "text": [
      "0.6499758015728978\n"
     ]
    }
   ],
   "source": [
    "# use repeat cross validation\n",
    "\n",
    "# declare obj of DT model\n",
    "clf= DecisionTreeClassifier()\n",
    "\n",
    "# define the model evaluation precedure\n",
    "cv= RepeatedStratifiedKFold(n_splits= 5, n_repeats= 10, random_state=1)\n",
    "\n",
    "# encode data\n",
    "oe= OrdinalEncoder()\n",
    "X_enc= oe.fit_transform(X)\n",
    "le = LabelEncoder()\n",
    "y_enc= le.fit_transform(y)\n",
    "\n",
    "# evaluate model\n",
    "scores= cross_val_score(clf, X_enc, y_enc, cv=cv, scoring= 'accuracy', n_jobs= -1)\n",
    "print(scores.mean())"
   ]
  },
  {
   "cell_type": "markdown",
   "id": "a46f975b",
   "metadata": {},
   "source": [
    "### 1.2 KNeighborsClassifier"
   ]
  },
  {
   "cell_type": "code",
   "execution_count": 16,
   "id": "bbda9be7",
   "metadata": {},
   "outputs": [
    {
     "data": {
      "text/plain": [
       "KNeighborsClassifier()"
      ]
     },
     "execution_count": 16,
     "metadata": {},
     "output_type": "execute_result"
    }
   ],
   "source": [
    "# Train model\n",
    "# declare obj of KC model\n",
    "neigh = KNeighborsClassifier()\n",
    "\n",
    "# fit model on train set\n",
    "neigh.fit(X_train_enc, y_train_enc)"
   ]
  },
  {
   "cell_type": "code",
   "execution_count": 18,
   "id": "03e1d1b1",
   "metadata": {},
   "outputs": [
    {
     "name": "stdout",
     "output_type": "stream",
     "text": [
      "Model acc: 0.6627906976744186\n",
      "Model pre: 0.6363636363636364\n",
      "Model rec: 0.21875\n"
     ]
    }
   ],
   "source": [
    "# Evaluate model\n",
    "\n",
    "# predict on test data\n",
    "y_pred= neigh.predict(X_test_enc)\n",
    "\n",
    "#model accuracy\n",
    "acc= metrics.accuracy_score(y_test_enc, y_pred)\n",
    "print(f'Model acc: {acc}')\n",
    "#model precision\n",
    "pres= metrics.precision_score(y_test_enc, y_pred)\n",
    "print(f'Model pre: {pres}')\n",
    "#model recall\n",
    "rec= metrics.recall_score(y_test_enc, y_pred)\n",
    "print(f'Model rec: {rec}')"
   ]
  },
  {
   "cell_type": "code",
   "execution_count": 19,
   "id": "b5a1929c",
   "metadata": {},
   "outputs": [
    {
     "name": "stdout",
     "output_type": "stream",
     "text": [
      "0.6678362573099416\n"
     ]
    }
   ],
   "source": [
    "# use cross validation\n",
    "# declare obj of KC model\n",
    "neigh = KNeighborsClassifier()\n",
    "\n",
    "cv= KFold(n_splits= 3, shuffle= True, random_state= 1)\n",
    "\n",
    "# encode data\n",
    "oe= OrdinalEncoder()\n",
    "X_enc= oe.fit_transform(X)\n",
    "le = LabelEncoder()\n",
    "y_enc= le.fit_transform(y)\n",
    "\n",
    "# evaluate model\n",
    "result= cross_val_score(neigh, X_enc, y_enc, cv=cv, scoring= 'accuracy')\n",
    "print(result.mean())"
   ]
  },
  {
   "cell_type": "markdown",
   "id": "aeacfbfc",
   "metadata": {},
   "source": [
    "# 2. Regression"
   ]
  },
  {
   "cell_type": "code",
   "execution_count": 20,
   "id": "a2bf90e8",
   "metadata": {},
   "outputs": [],
   "source": [
    "import pandas as pd\n",
    "from sklearn.model_selection import train_test_split\n",
    "from sklearn.linear_model import LinearRegression\n",
    "from sklearn.metrics import mean_squared_error, mean_absolute_error\n",
    "from sklearn.preprocessing import MinMaxScaler, StandardScaler\n",
    "from sklearn.tree import DecisionTreeRegressor\n",
    "from sklearn.ensemble import RandomForestRegressor"
   ]
  },
  {
   "cell_type": "markdown",
   "id": "d8251287",
   "metadata": {},
   "source": [
    "### 2.1 DecisionTreeRegressor"
   ]
  },
  {
   "cell_type": "code",
   "execution_count": 21,
   "id": "559ada01",
   "metadata": {},
   "outputs": [],
   "source": [
    "# load dataset function\n",
    "def load_dataset_scale(filename):\n",
    "    #load data from csv file\n",
    "    df_data= pd.read_csv(filename, header= None)\n",
    "    #convert df to numpy array\n",
    "    dataset= df_data.values\n",
    "    # split dataset into input (X) and output (y)\n",
    "    X = dataset[:, :-1]\n",
    "    y = dataset[:, -1]\n",
    "    \n",
    "    scaler_s = StandardScaler()\n",
    "\n",
    "    X= scaler_s.fit_transform(X)\n",
    "    \n",
    "    return X, y"
   ]
  },
  {
   "cell_type": "code",
   "execution_count": 23,
   "id": "4cbd1656",
   "metadata": {},
   "outputs": [
    {
     "name": "stdout",
     "output_type": "stream",
     "text": [
      "(506, 13)\n"
     ]
    }
   ],
   "source": [
    "# load data\n",
    "X, y= load_dataset_scale('housing.csv')\n",
    "print(X.shape)"
   ]
  },
  {
   "cell_type": "code",
   "execution_count": 24,
   "id": "f8906b38",
   "metadata": {},
   "outputs": [],
   "source": [
    "# split X,y into train and test set\n",
    "X_train, X_test, y_train, y_test = train_test_split(X, y, test_size= 0.3, random_state= 1)"
   ]
  },
  {
   "cell_type": "code",
   "execution_count": 25,
   "id": "0722bc5b",
   "metadata": {},
   "outputs": [
    {
     "data": {
      "text/plain": [
       "DecisionTreeRegressor()"
      ]
     },
     "execution_count": 25,
     "metadata": {},
     "output_type": "execute_result"
    }
   ],
   "source": [
    "# declare model obj\n",
    "Dtr_ml= DecisionTreeRegressor()\n",
    "\n",
    "# fit model on train set\n",
    "Dtr_ml.fit(X_train, y_train)"
   ]
  },
  {
   "cell_type": "code",
   "execution_count": 26,
   "id": "688121bb",
   "metadata": {},
   "outputs": [
    {
     "name": "stdout",
     "output_type": "stream",
     "text": [
      "Model mse: 16.558092105263157\n",
      "Model mae: 2.8743421052631577\n"
     ]
    }
   ],
   "source": [
    "# Evaluate model\n",
    "\n",
    "# predict on test data\n",
    "y_pred= Dtr_ml.predict(X_test)\n",
    "\n",
    "#model mse\n",
    "mse= mean_squared_error(y_test, y_pred)\n",
    "print(f'Model mse: {mse}')\n",
    "#model mae\n",
    "mae= mean_absolute_error(y_test, y_pred)\n",
    "print(f'Model mae: {mae}')"
   ]
  },
  {
   "cell_type": "markdown",
   "id": "634830c9",
   "metadata": {},
   "source": [
    "### 2.2 RandomForestRegressor"
   ]
  },
  {
   "cell_type": "code",
   "execution_count": 27,
   "id": "a8f256c2",
   "metadata": {},
   "outputs": [],
   "source": [
    "# load dataset function\n",
    "def load_dataset_scale(filename):\n",
    "    #load data from csv file\n",
    "    df_data= pd.read_csv(filename, header= None)\n",
    "    #convert df to numpy array\n",
    "    dataset= df_data.values\n",
    "    # split dataset into input (X) and output (y)\n",
    "    X = dataset[:, :-1]\n",
    "    y = dataset[:, -1]\n",
    "    \n",
    "    scaler_s = StandardScaler()\n",
    "\n",
    "    X= scaler_s.fit_transform(X)\n",
    "    \n",
    "    return X, y"
   ]
  },
  {
   "cell_type": "code",
   "execution_count": 28,
   "id": "50e18ca0",
   "metadata": {},
   "outputs": [
    {
     "name": "stdout",
     "output_type": "stream",
     "text": [
      "(506, 13)\n"
     ]
    }
   ],
   "source": [
    "# load data\n",
    "X, y= load_dataset_scale('housing.csv')\n",
    "print(X.shape)"
   ]
  },
  {
   "cell_type": "code",
   "execution_count": 29,
   "id": "4aac069a",
   "metadata": {},
   "outputs": [],
   "source": [
    "# split X,y into train and test set\n",
    "X_train, X_test, y_train, y_test = train_test_split(X, y, test_size= 0.3, random_state= 1)"
   ]
  },
  {
   "cell_type": "code",
   "execution_count": 30,
   "id": "20b84fb2",
   "metadata": {},
   "outputs": [
    {
     "data": {
      "text/plain": [
       "RandomForestRegressor()"
      ]
     },
     "execution_count": 30,
     "metadata": {},
     "output_type": "execute_result"
    }
   ],
   "source": [
    "# declare model obj\n",
    "Rf_ml= RandomForestRegressor()\n",
    "\n",
    "# fit model on train set\n",
    "Rf_ml.fit(X_train, y_train)"
   ]
  },
  {
   "cell_type": "code",
   "execution_count": 31,
   "id": "6de1010e",
   "metadata": {},
   "outputs": [
    {
     "name": "stdout",
     "output_type": "stream",
     "text": [
      "Model mse: 7.898784223684213\n",
      "Model mae: 2.151539473684211\n"
     ]
    }
   ],
   "source": [
    "# Evaluate model\n",
    "\n",
    "# predict on test data\n",
    "y_pred= Rf_ml.predict(X_test)\n",
    "\n",
    "#model mse\n",
    "mse= mean_squared_error(y_test, y_pred)\n",
    "print(f'Model mse: {mse}')\n",
    "#model mae\n",
    "mae= mean_absolute_error(y_test, y_pred)\n",
    "print(f'Model mae: {mae}')"
   ]
  },
  {
   "cell_type": "code",
   "execution_count": null,
   "id": "cf65b50e",
   "metadata": {},
   "outputs": [],
   "source": []
  }
 ],
 "metadata": {
  "kernelspec": {
   "display_name": "Python 3 (ipykernel)",
   "language": "python",
   "name": "python3"
  },
  "language_info": {
   "codemirror_mode": {
    "name": "ipython",
    "version": 3
   },
   "file_extension": ".py",
   "mimetype": "text/x-python",
   "name": "python",
   "nbconvert_exporter": "python",
   "pygments_lexer": "ipython3",
   "version": "3.8.13"
  }
 },
 "nbformat": 4,
 "nbformat_minor": 5
}
