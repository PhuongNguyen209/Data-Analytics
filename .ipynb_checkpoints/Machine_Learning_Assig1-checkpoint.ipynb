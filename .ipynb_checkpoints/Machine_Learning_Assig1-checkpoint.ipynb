{
 "cells": [
  {
   "cell_type": "markdown",
   "id": "6d012fb4",
   "metadata": {},
   "source": [
    "# 1. Classification"
   ]
  },
  {
   "cell_type": "code",
   "execution_count": 1,
   "id": "482fc7f3",
   "metadata": {},
   "outputs": [],
   "source": [
    "import pandas as pd\n",
    "from sklearn.preprocessing import LabelEncoder\n",
    "from sklearn.preprocessing import OrdinalEncoder\n",
    "from sklearn.model_selection import  train_test_split\n",
    "from sklearn.tree import DecisionTreeClassifier\n",
    "from sklearn import metrics\n",
    "from sklearn.model_selection import KFold, RepeatedStratifiedKFold\n",
    "from sklearn.model_selection import cross_val_score\n",
    "from sklearn.neighbors import KNeighborsClassifier"
   ]
  },
  {
   "cell_type": "code",
   "execution_count": 2,
   "id": "ee0e4b54",
   "metadata": {},
   "outputs": [],
   "source": [
    "# load dataset function\n",
    "def load_dataset(filename):\n",
    "    #load data from csv file\n",
    "    df_data= pd.read_csv(filename, header= None)\n",
    "    #convert df to numpy array\n",
    "    dataset= df_data.values\n",
    "    # split dataset into input (X) and output (y)\n",
    "    X = dataset[:, :-1]\n",
    "    y = dataset[:, -1]\n",
    "    # format X to str\n",
    "    X= X.astype(str)\n",
    "    \n",
    "    return X, y"
   ]
  },
  {
   "cell_type": "code",
   "execution_count": 3,
   "id": "2facb726",
   "metadata": {},
   "outputs": [],
   "source": [
    "# prepare input function\n",
    "def prepare_input(X_train, X_test):\n",
    "    oe = OrdinalEncoder()\n",
    "    oe.fit(X_train)\n",
    "    X_train_enc= oe.transform(X_train)\n",
    "    X_test_enc= oe.transform(X_test)\n",
    "    \n",
    "    return X_train_enc, X_test_enc"
   ]
  },
  {
   "cell_type": "code",
   "execution_count": 4,
   "id": "400e0367",
   "metadata": {},
   "outputs": [],
   "source": [
    "# prepare output function\n",
    "def prepare_output(y_train, y_test):\n",
    "    le = LabelEncoder()\n",
    "    le.fit(y_train)\n",
    "    y_train_enc= le.transform(y_train)\n",
    "    y_test_enc= le.transform(y_test)\n",
    "    \n",
    "    return y_train_enc, y_test_enc"
   ]
  },
  {
   "cell_type": "code",
   "execution_count": 5,
   "id": "e2f33d2b",
   "metadata": {},
   "outputs": [
    {
     "name": "stdout",
     "output_type": "stream",
     "text": [
      "(286, 9)\n"
     ]
    }
   ],
   "source": [
    "# load dataset\n",
    "X, y= load_dataset('breast-cancer.csv')\n",
    "print(X.shape)"
   ]
  },
  {
   "cell_type": "code",
   "execution_count": 6,
   "id": "999e4b18",
   "metadata": {},
   "outputs": [],
   "source": [
    "# split X,y into train and test set\n",
    "X_train, X_test, y_train, y_test = train_test_split(X, y, test_size= 0.3, random_state= 1)"
   ]
  },
  {
   "cell_type": "code",
   "execution_count": 7,
   "id": "6ed218b1",
   "metadata": {},
   "outputs": [],
   "source": [
    "# prepare input data\n",
    "X_train_enc, X_test_enc= prepare_input(X_train, X_test)"
   ]
  },
  {
   "cell_type": "code",
   "execution_count": 8,
   "id": "4316abca",
   "metadata": {},
   "outputs": [],
   "source": [
    "# prepare output data\n",
    "y_train_enc, y_test_enc= prepare_output(y_train, y_test)"
   ]
  },
  {
   "cell_type": "markdown",
   "id": "02ad4f23",
   "metadata": {},
   "source": [
    "### 1.1 DecisionTreeClassifier"
   ]
  },
  {
   "cell_type": "code",
   "execution_count": 9,
   "id": "05a916ad",
   "metadata": {},
   "outputs": [
    {
     "data": {
      "text/plain": [
       "DecisionTreeClassifier()"
      ]
     },
     "execution_count": 9,
     "metadata": {},
     "output_type": "execute_result"
    }
   ],
   "source": [
    "# declare obj of DT model\n",
    "clf= DecisionTreeClassifier()\n",
    "\n",
    "# fit model on train set\n",
    "clf.fit(X_train_enc, y_train_enc)"
   ]
  },
  {
   "cell_type": "code",
   "execution_count": 10,
   "id": "47b5c2fb",
   "metadata": {},
   "outputs": [
    {
     "name": "stdout",
     "output_type": "stream",
     "text": [
      "Model acc: 0.686046511627907\n",
      "Model pre: 0.6470588235294118\n",
      "Model rec: 0.34375\n"
     ]
    }
   ],
   "source": [
    "#Evaluate model\n",
    "\n",
    "# predict on test data\n",
    "y_pred= clf.predict(X_test_enc)\n",
    "\n",
    "#model accuracy\n",
    "acc= metrics.accuracy_score(y_test_enc, y_pred)\n",
    "print(f'Model acc: {acc}')\n",
    "#model precision\n",
    "pres= metrics.precision_score(y_test_enc, y_pred)\n",
    "print(f'Model pre: {pres}')\n",
    "#model recall\n",
    "rec= metrics.recall_score(y_test_enc, y_pred)\n",
    "print(f'Model rec: {rec}')"
   ]
  },
  {
   "cell_type": "code",
   "execution_count": 11,
   "id": "ef320d53",
   "metadata": {},
   "outputs": [
    {
     "name": "stdout",
     "output_type": "stream",
     "text": [
      "0.6536549707602339\n"
     ]
    }
   ],
   "source": [
    "# use cross validation\n",
    "# declare obj of DT model\n",
    "clf= DecisionTreeClassifier()\n",
    "\n",
    "cv= KFold(n_splits= 3, shuffle= True, random_state= 1)\n",
    "\n",
    "# encode data\n",
    "oe= OrdinalEncoder()\n",
    "X_enc= oe.fit_transform(X)\n",
    "le = LabelEncoder()\n",
    "y_enc= le.fit_transform(y)\n",
    "\n",
    "# evaluate model\n",
    "result= cross_val_score(clf, X_enc, y_enc, cv=cv, scoring= 'accuracy')\n",
    "print(result.mean())"
   ]
  },
  {
   "cell_type": "code",
   "execution_count": 12,
   "id": "f8d5f5c4",
   "metadata": {},
   "outputs": [
    {
     "name": "stdout",
     "output_type": "stream",
     "text": [
      "0.6499758015728978\n"
     ]
    }
   ],
   "source": [
    "# use repeat cross validation\n",
    "\n",
    "# declare obj of DT model\n",
    "clf= DecisionTreeClassifier()\n",
    "\n",
    "# define the model evaluation precedure\n",
    "cv= RepeatedStratifiedKFold(n_splits= 5, n_repeats= 10, random_state=1)\n",
    "\n",
    "# encode data\n",
    "oe= OrdinalEncoder()\n",
    "X_enc= oe.fit_transform(X)\n",
    "le = LabelEncoder()\n",
    "y_enc= le.fit_transform(y)\n",
    "\n",
    "# evaluate model\n",
    "scores= cross_val_score(clf, X_enc, y_enc, cv=cv, scoring= 'accuracy', n_jobs= -1)\n",
    "print(scores.mean())"
   ]
  },
  {
   "cell_type": "markdown",
   "id": "287348bd",
   "metadata": {},
   "source": [
    "### 1.2 KNeighborsClassifier"
   ]
  },
  {
   "cell_type": "code",
   "execution_count": 16,
   "id": "f7a65c71",
   "metadata": {},
   "outputs": [
    {
     "data": {
      "text/plain": [
       "KNeighborsClassifier()"
      ]
     },
     "execution_count": 16,
     "metadata": {},
     "output_type": "execute_result"
    }
   ],
   "source": [
    "# Train model\n",
    "# declare obj of KC model\n",
    "neigh = KNeighborsClassifier()\n",
    "\n",
    "# fit model on train set\n",
    "neigh.fit(X_train_enc, y_train_enc)"
   ]
  },
  {
   "cell_type": "code",
   "execution_count": 18,
   "id": "e626865d",
   "metadata": {},
   "outputs": [
    {
     "name": "stdout",
     "output_type": "stream",
     "text": [
      "Model acc: 0.6627906976744186\n",
      "Model pre: 0.6363636363636364\n",
      "Model rec: 0.21875\n"
     ]
    }
   ],
   "source": [
    "# Evaluate model\n",
    "\n",
    "# predict on test data\n",
    "y_pred= neigh.predict(X_test_enc)\n",
    "\n",
    "#model accuracy\n",
    "acc= metrics.accuracy_score(y_test_enc, y_pred)\n",
    "print(f'Model acc: {acc}')\n",
    "#model precision\n",
    "pres= metrics.precision_score(y_test_enc, y_pred)\n",
    "print(f'Model pre: {pres}')\n",
    "#model recall\n",
    "rec= metrics.recall_score(y_test_enc, y_pred)\n",
    "print(f'Model rec: {rec}')"
   ]
  },
  {
   "cell_type": "code",
   "execution_count": 19,
   "id": "db5dbabf",
   "metadata": {},
   "outputs": [
    {
     "name": "stdout",
     "output_type": "stream",
     "text": [
      "0.6678362573099416\n"
     ]
    }
   ],
   "source": [
    "# use cross validation\n",
    "# declare obj of KC model\n",
    "neigh = KNeighborsClassifier()\n",
    "\n",
    "cv= KFold(n_splits= 3, shuffle= True, random_state= 1)\n",
    "\n",
    "# encode data\n",
    "oe= OrdinalEncoder()\n",
    "X_enc= oe.fit_transform(X)\n",
    "le = LabelEncoder()\n",
    "y_enc= le.fit_transform(y)\n",
    "\n",
    "# evaluate model\n",
    "result= cross_val_score(neigh, X_enc, y_enc, cv=cv, scoring= 'accuracy')\n",
    "print(result.mean())"
   ]
  },
  {
   "cell_type": "markdown",
   "id": "ea106366",
   "metadata": {},
   "source": [
    "# 2. Regression"
   ]
  },
  {
   "cell_type": "code",
   "execution_count": 20,
   "id": "e942dc6a",
   "metadata": {},
   "outputs": [],
   "source": [
    "import pandas as pd\n",
    "from sklearn.model_selection import train_test_split\n",
    "from sklearn.metrics import mean_squared_error, mean_absolute_error\n",
    "from sklearn.preprocessing import StandardScaler\n",
    "from sklearn.tree import DecisionTreeRegressor\n",
    "from sklearn.ensemble import RandomForestRegressor"
   ]
  },
  {
   "cell_type": "markdown",
   "id": "fa4e83f7",
   "metadata": {},
   "source": [
    "### 2.1 DecisionTreeRegressor"
   ]
  },
  {
   "cell_type": "code",
   "execution_count": 21,
   "id": "ba3fed31",
   "metadata": {},
   "outputs": [],
   "source": [
    "# load dataset function\n",
    "def load_dataset_scale(filename):\n",
    "    #load data from csv file\n",
    "    df_data= pd.read_csv(filename, header= None)\n",
    "    #convert df to numpy array\n",
    "    dataset= df_data.values\n",
    "    # split dataset into input (X) and output (y)\n",
    "    X = dataset[:, :-1]\n",
    "    y = dataset[:, -1]\n",
    "    \n",
    "    scaler_s = StandardScaler()\n",
    "\n",
    "    X= scaler_s.fit_transform(X)\n",
    "    \n",
    "    return X, y"
   ]
  },
  {
   "cell_type": "code",
   "execution_count": 23,
   "id": "ed68ced9",
   "metadata": {},
   "outputs": [
    {
     "name": "stdout",
     "output_type": "stream",
     "text": [
      "(506, 13)\n"
     ]
    }
   ],
   "source": [
    "# load data\n",
    "X, y= load_dataset_scale('housing.csv')\n",
    "print(X.shape)"
   ]
  },
  {
   "cell_type": "code",
   "execution_count": 24,
   "id": "c5d9ca40",
   "metadata": {},
   "outputs": [],
   "source": [
    "# split X,y into train and test set\n",
    "X_train, X_test, y_train, y_test = train_test_split(X, y, test_size= 0.3, random_state= 1)"
   ]
  },
  {
   "cell_type": "code",
   "execution_count": 25,
   "id": "21eec7ec",
   "metadata": {},
   "outputs": [
    {
     "data": {
      "text/plain": [
       "DecisionTreeRegressor()"
      ]
     },
     "execution_count": 25,
     "metadata": {},
     "output_type": "execute_result"
    }
   ],
   "source": [
    "# declare model obj\n",
    "Dtr_ml= DecisionTreeRegressor()\n",
    "\n",
    "# fit model on train set\n",
    "Dtr_ml.fit(X_train, y_train)"
   ]
  },
  {
   "cell_type": "code",
   "execution_count": 26,
   "id": "fa792525",
   "metadata": {},
   "outputs": [
    {
     "name": "stdout",
     "output_type": "stream",
     "text": [
      "Model mse: 16.558092105263157\n",
      "Model mae: 2.8743421052631577\n"
     ]
    }
   ],
   "source": [
    "# Evaluate model\n",
    "\n",
    "# predict on test data\n",
    "y_pred= Dtr_ml.predict(X_test)\n",
    "\n",
    "#model mse\n",
    "mse= mean_squared_error(y_test, y_pred)\n",
    "print(f'Model mse: {mse}')\n",
    "#model mae\n",
    "mae= mean_absolute_error(y_test, y_pred)\n",
    "print(f'Model mae: {mae}')"
   ]
  },
  {
   "cell_type": "markdown",
   "id": "52e82934",
   "metadata": {},
   "source": [
    "### 2.2 RandomForestRegressor"
   ]
  },
  {
   "cell_type": "code",
   "execution_count": 27,
   "id": "4bb74d0b",
   "metadata": {},
   "outputs": [],
   "source": [
    "# load dataset function\n",
    "def load_dataset_scale(filename):\n",
    "    #load data from csv file\n",
    "    df_data= pd.read_csv(filename, header= None)\n",
    "    #convert df to numpy array\n",
    "    dataset= df_data.values\n",
    "    # split dataset into input (X) and output (y)\n",
    "    X = dataset[:, :-1]\n",
    "    y = dataset[:, -1]\n",
    "    \n",
    "    scaler_s = StandardScaler()\n",
    "\n",
    "    X= scaler_s.fit_transform(X)\n",
    "    \n",
    "    return X, y"
   ]
  },
  {
   "cell_type": "code",
   "execution_count": 28,
   "id": "4457c354",
   "metadata": {},
   "outputs": [
    {
     "name": "stdout",
     "output_type": "stream",
     "text": [
      "(506, 13)\n"
     ]
    }
   ],
   "source": [
    "# load data\n",
    "X, y= load_dataset_scale('housing.csv')\n",
    "print(X.shape)"
   ]
  },
  {
   "cell_type": "code",
   "execution_count": 29,
   "id": "31de1618",
   "metadata": {},
   "outputs": [],
   "source": [
    "# split X,y into train and test set\n",
    "X_train, X_test, y_train, y_test = train_test_split(X, y, test_size= 0.3, random_state= 1)"
   ]
  },
  {
   "cell_type": "code",
   "execution_count": 30,
   "id": "c49e6ffa",
   "metadata": {},
   "outputs": [
    {
     "data": {
      "text/plain": [
       "RandomForestRegressor()"
      ]
     },
     "execution_count": 30,
     "metadata": {},
     "output_type": "execute_result"
    }
   ],
   "source": [
    "# declare model obj\n",
    "Rf_ml= RandomForestRegressor()\n",
    "\n",
    "# fit model on train set\n",
    "Rf_ml.fit(X_train, y_train)"
   ]
  },
  {
   "cell_type": "code",
   "execution_count": 31,
   "id": "66f3e546",
   "metadata": {},
   "outputs": [
    {
     "name": "stdout",
     "output_type": "stream",
     "text": [
      "Model mse: 7.898784223684213\n",
      "Model mae: 2.151539473684211\n"
     ]
    }
   ],
   "source": [
    "# Evaluate model\n",
    "\n",
    "# predict on test data\n",
    "y_pred= Rf_ml.predict(X_test)\n",
    "\n",
    "#model mse\n",
    "mse= mean_squared_error(y_test, y_pred)\n",
    "print(f'Model mse: {mse}')\n",
    "#model mae\n",
    "mae= mean_absolute_error(y_test, y_pred)\n",
    "print(f'Model mae: {mae}')"
   ]
  },
  {
   "cell_type": "code",
   "execution_count": null,
   "id": "dfba2e13",
   "metadata": {},
   "outputs": [],
   "source": []
  }
 ],
 "metadata": {
  "kernelspec": {
   "display_name": "Python 3 (ipykernel)",
   "language": "python",
   "name": "python3"
  },
  "language_info": {
   "codemirror_mode": {
    "name": "ipython",
    "version": 3
   },
   "file_extension": ".py",
   "mimetype": "text/x-python",
   "name": "python",
   "nbconvert_exporter": "python",
   "pygments_lexer": "ipython3",
   "version": "3.8.13"
  }
 },
 "nbformat": 4,
 "nbformat_minor": 5
}
