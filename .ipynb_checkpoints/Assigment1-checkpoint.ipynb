{
 "cells": [
  {
   "cell_type": "code",
   "execution_count": 2,
   "id": "755b785e",
   "metadata": {},
   "outputs": [
    {
     "name": "stdout",
     "output_type": "stream",
     "text": [
      "<class 'int'>\n",
      "<class 'float'>\n",
      "Nhập x:1\n",
      "x + 3=  4\n",
      "x - 3=  -2\n",
      "x * 3=  3\n",
      "x / 3=  0.3333333333333333\n",
      "Nhập x =1\n",
      "Kết quả =  4\n",
      "Nhập x:1\n",
      "x + 3=  4.0\n",
      "x - 3=  -2.0\n",
      "x * 3=  3.0\n",
      "x / 3=  0.3333333333333333\n",
      "Nhập x =1\n",
      "Kết quả =  4.0\n"
     ]
    }
   ],
   "source": [
    "# BÀI 1: NUMBER\n",
    "# Khai báo biến x kiểu số nguyên, số thực sau đó in giá trị của x và dạng của nó\n",
    "x = int()\n",
    "x1 = float()\n",
    "print(type(x))\n",
    "print(type(x1))\n",
    "\n",
    "# Tính toán với x là số nguyên\n",
    "x = int(input('Nhập x:'))\n",
    "# Cộng\n",
    "print('x + 3= ', x + 3)\n",
    "# Trừ\n",
    "print('x - 3= ', x - 3)\n",
    "# Nhân\n",
    "print('x * 3= ', x * 3)\n",
    "# Chia\n",
    "print('x / 3= ', x / 3)\n",
    "\n",
    "# Thực hiện tăng giá trị của x lên 1 đơn vị (sử dụng toán tử +=), và lên 2 lần (sử dụng toán tử *2),\n",
    "# sau đó in ra kết quả\n",
    "x = int(input('Nhập x ='))\n",
    "x += 1\n",
    "x *= 2\n",
    "print('Kết quả = ', x)\n",
    "\n",
    "# x kiểu số thực\n",
    "x = float(input('Nhập x:'))\n",
    "# Cộng\n",
    "print('x + 3= ', x + 3)\n",
    "# Trừ\n",
    "print('x - 3= ', x - 3)\n",
    "# Nhân\n",
    "print('x * 3= ', x * 3)\n",
    "# Chia\n",
    "print('x / 3= ', x / 3)\n",
    "\n",
    "# Thực hiện tăng giá trị của x lên 1 đơn vị (sử dụng toán tử +=), và lên 2 lần (sử dụng toán tử *2),\n",
    "# sau đó in ra kết quả (x là số thực)\n",
    "x = float(input('Nhập x ='))\n",
    "x += 1\n",
    "x *= 2\n",
    "print('Kết quả = ', x)"
   ]
  },
  {
   "cell_type": "code",
   "execution_count": 8,
   "id": "92329b5f",
   "metadata": {},
   "outputs": [
    {
     "name": "stdout",
     "output_type": "stream",
     "text": [
      "False\n",
      "True\n",
      "True\n",
      "True\n"
     ]
    }
   ],
   "source": [
    "# Bài 2: Booleans: \n",
    "# Khai báo hai biến nhận giá trị kiểu Booleans. In ra kiểu dữ liệu của chúng\n",
    "# x = 5\n",
    "# y = 6\n",
    "# print(bool(x))\n",
    "# print(bool(y))\n",
    "\n",
    "# Thực hiện các phép logic AND, OR, NOT, != giữa t và f, sau đó in ra kết quả\n",
    "t = 3\n",
    "f= 9\n",
    "print(t > 2 and f < 3)\n",
    "print(t > 2 or f < 3)\n",
    "print(not(t > 2 and f < 3))\n",
    "print(t != f)"
   ]
  },
  {
   "cell_type": "code",
   "execution_count": 21,
   "id": "dee80d53",
   "metadata": {},
   "outputs": [
    {
     "name": "stdout",
     "output_type": "stream",
     "text": [
      "   ban toi     \n",
      "   BAN TOI     \n",
      "   ban toi     \n",
      "        ban TOI     \n",
      "     ban TOI        \n",
      "   ban EM     \n",
      "ban TOI\n"
     ]
    }
   ],
   "source": [
    "# Bài 3: Strings \n",
    "# Khai báo 2 biến s, u nhận giá trị là một string. In ra giá trị và chiều dài của chúng\n",
    "# s= str(input('Nhập s:'))\n",
    "# u= str(input('Nhập u:'))\n",
    "# print('Giá trị s là:', s, ',', 'Giá trị u là:', u)\n",
    "# print('Độ dài s:', len(s))\n",
    "# print('Độ dài u:', len(u))\n",
    "\n",
    "# Gộp giá trị của 2 biến s, u vào biến su. In ra giá trị và chiều dài của su\n",
    "# su = s + u\n",
    "# print('su là:', su)\n",
    "# print('Độ dài su:', len(su))\n",
    "\n",
    "# Áp dụng các hàm sau đối với biến su và in ra kết quả: - .capitalize() - .upper() - .lower() - .rjust()\n",
    "# - .center() - .replace() - .strip()\n",
    "su = '   ban TOI     '\n",
    "a = su.capitalize()\n",
    "b = su.upper()\n",
    "c = su.lower()\n",
    "d = su.rjust(20)\n",
    "e = su.center(20)\n",
    "f = su.replace('TOI', 'EM')\n",
    "g = su.strip()\n",
    "ketqua = [a, b, c, d, e, f, g]\n",
    "for i in ketqua:\n",
    "    print(i)\n"
   ]
  },
  {
   "cell_type": "code",
   "execution_count": 7,
   "id": "d5224a5e",
   "metadata": {},
   "outputs": [
    {
     "name": "stdout",
     "output_type": "stream",
     "text": [
      "[1, 2, 3, 4, 5]\n",
      "3 5\n",
      "[1, 2, 3, 0, 5]\n",
      "[1, 2, 3, 0, 5, 6]\n",
      "[1, 2, 3, 0, 5]\n"
     ]
    }
   ],
   "source": [
    "# Bài 3: Lists \n",
    "# Khai báo list xs, sau đó in ra giá trị của phần tử thứ 2 và cuối cùng\n",
    "xs = [1,2,3,4,5]\n",
    "print(xs)\n",
    "print(xs[2], xs[4])\n",
    "xs[3] = 0\n",
    "print(xs)\n",
    "xs.append(6)\n",
    "print(xs)\n",
    "xs.pop()\n",
    "print(xs)"
   ]
  },
  {
   "cell_type": "code",
   "execution_count": 13,
   "id": "f67cc141",
   "metadata": {},
   "outputs": [
    {
     "name": "stdout",
     "output_type": "stream",
     "text": [
      "[3, 4, 5]\n",
      "[3, 4, 5]\n",
      "[1, 2, 3, 4]\n",
      "[1, 2, 3, 4, 5]\n",
      "[1, 2, 7, 8, 9]\n"
     ]
    }
   ],
   "source": [
    "# Slicing\n",
    "a = [1,2,3,4,5]\n",
    "print(a[2:5])\n",
    "print(a[2:])\n",
    "print(a[:4])\n",
    "print(a)\n",
    "a[2:5] = [7,8,9]\n",
    "print(a)"
   ]
  },
  {
   "cell_type": "code",
   "execution_count": 16,
   "id": "f9df1834",
   "metadata": {},
   "outputs": [
    {
     "name": "stdout",
     "output_type": "stream",
     "text": [
      "1\n",
      "2\n",
      "3\n",
      "4\n",
      "5\n",
      "(0, 'chó')\n",
      "(1, 'mèo')\n",
      "(2, 'gà')\n",
      "(3, 'trâu')\n",
      "(4, 'bò')\n"
     ]
    }
   ],
   "source": [
    "#Loops\n",
    "# Khai báo một list gồm 5 phần tử. In các phần tử của nó bằng cách dùng vòng lặp for\n",
    "a = [1,2,3,4,5]\n",
    "for i in a:\n",
    "    print(i)\n",
    "\n",
    "# Khai báo một list gồm 5 phần tử. In các phần tử của nó, kèm theo chỉ số tương ứng bằng cách\n",
    "# dùng vòng lặp for và hàm enumerate.\n",
    "a = ['chó', 'mèo', 'gà', 'trâu', 'bò']\n",
    "for i in enumerate(a):\n",
    "    print(i)"
   ]
  },
  {
   "cell_type": "code",
   "execution_count": 22,
   "id": "e5c2107a",
   "metadata": {},
   "outputs": [
    {
     "name": "stdout",
     "output_type": "stream",
     "text": [
      "[0, 2, 4, 6, 8]\n",
      "[0, 2, 4, 6, 8]\n",
      "[0, 2, 4]\n"
     ]
    }
   ],
   "source": [
    "# List comprehensions:\n",
    "# Khai báo một list gồm 5 phần tử là các số nguyên. Tạo một list mới mà\n",
    "# mỗi phần tử của nó được tạo thành từ các phần tử tương ứng của list ban đầu nhân với 2. Thực\n",
    "# hiện yêu cầu theo 2 cách khác nhau\n",
    " # cách 1\n",
    "nums = [0, 1, 2, 3, 4]\n",
    "squares = []\n",
    "for x in nums:\n",
    "    x *= 2\n",
    "    squares.append(x)\n",
    "print(squares)\n",
    "# cách 2, sử dụng list comprehensions\n",
    "nums = [0, 1, 2, 3, 4]\n",
    "squares = [x*2 for x in nums]\n",
    "print(squares)\n",
    "\n",
    "# Vẫn sử dụng list comprehensions nhưng kèm theo điều kiện phần tử của list ban đầu phải là số\n",
    "# chẵn.\n",
    "nums = [0, 1, 2, 3, 4]\n",
    "even_squares = [x for x in nums if x % 2 == 0]\n",
    "print(even_squares)"
   ]
  },
  {
   "cell_type": "code",
   "execution_count": 17,
   "id": "e542945c",
   "metadata": {},
   "outputs": [
    {
     "name": "stdout",
     "output_type": "stream",
     "text": [
      "name\n",
      "The key is not exist\n",
      "Thêm thành công {'1': 'name', '2': 'age', '3': 'address'}\n",
      "Xóa thành công {'1': 'name', '2': 'age'}\n",
      "Key của a: 1\n",
      "Key của a: 2\n",
      "Value của a: name\n",
      "Value của a: age\n",
      "1 name\n",
      "2 age\n",
      "1 2\n",
      "2 4\n",
      "3 6\n",
      "4 8\n",
      "5 10\n"
     ]
    }
   ],
   "source": [
    "# Bài 4: Dictionaries\n",
    "# Khai báo một dictionary bao gồm 2 phần tử. - In ra value của\n",
    "# phần tử đầu tiên - Kiểm tra xem một key có trong dictionary hay không?\n",
    "a = {\n",
    "    '1': 'name',\n",
    "    '2': 'age'\n",
    "}\n",
    "print(a['1'])\n",
    "if '3' in a:\n",
    "    print('Yes, 1 is one of the keys!')\n",
    "else:\n",
    "    print('The key is not exist')\n",
    "\n",
    "# Thêm mới một phần tử vào dictionary vừa khai báo\n",
    "a['3'] = 'address'\n",
    "print('Thêm thành công', a)\n",
    "\n",
    "# Xóa một phần tử của dictionary theo key của nó\n",
    "a.pop('3')\n",
    "print('Xóa thành công', a)\n",
    "\n",
    "# In ra key và value của dictionany vừa tạo, sử dụng vòng lặp for theo 2 cách khác nhau\n",
    "# Cách 1\n",
    "for x in a.keys():\n",
    "    print('Key của a:', x)\n",
    "for y in a.values():\n",
    "    print('Value của a:', y)\n",
    "# Cách 2\n",
    "for x, y in a.items():\n",
    "    print(x, y)\n",
    "\n",
    "# Tạo một list 5 phần tử nguyên. Tạo dictionary bằng cách nhân các phần tử của list với 2, key của\n",
    "# dictionary là giá trị của phần tử của list.Sử dụng Dictionary comprehensions\n",
    "a = [1,2,3,4,5]\n",
    "b = {}\n",
    "for i in a:\n",
    "    b.update({i:i*2})\n",
    "for x, y in b.items():\n",
    "    print(x, y)\n"
   ]
  },
  {
   "cell_type": "code",
   "execution_count": 21,
   "id": "e4337aed",
   "metadata": {},
   "outputs": [
    {
     "name": "stdout",
     "output_type": "stream",
     "text": [
      "{'cherry', 'banana', 'apple'}\n",
      "Not in\n",
      "Thêm thành công: {'cherry', 'lemon', 'banana', 'apple'}\n",
      "Xóa thành công! {'cherry', 'lemon', 'apple'}\n",
      "(0, 'cherry')\n",
      "(1, 'lemon')\n",
      "(2, 'apple')\n"
     ]
    }
   ],
   "source": [
    "# Bài 5: Sets\n",
    "# Tạo một set gồm\n",
    "# 3 phần tử. - Kiểm tra xem một phần tử nào đó có nằm trong set vừa tạo hay không?\n",
    "myset = {\"apple\", \"banana\", \"cherry\"}\n",
    "print(myset)\n",
    "if 'lemon' in myset:\n",
    "    print('Yes')\n",
    "else:\n",
    "    print('Not in')\n",
    "\n",
    "# Thêm mới một phần tử vào set, sử dụng hàm .add()\n",
    "myset.add('lemon')\n",
    "print('Thêm thành công:', myset)\n",
    "\n",
    "# Xóa một phần tử trong set, sử dụng hàm .remove()\n",
    "myset.remove('banana')\n",
    "print('Xóa thành công!', myset)\n",
    "\n",
    "# In ra chỉ số (số thứ tự) và giá trị các phần tử của set, sử dụng vòng lặp for và hàm enumerate()\n",
    "for i in enumerate(myset):\n",
    "    print(i)\n"
   ]
  },
  {
   "cell_type": "code",
   "execution_count": 25,
   "id": "942019b0",
   "metadata": {},
   "outputs": [
    {
     "name": "stdout",
     "output_type": "stream",
     "text": [
      "không thể thay đổi giá trị của tuple! ('apple', 'banana', 'cherry')\n"
     ]
    }
   ],
   "source": [
    "# Tuples\n",
    "# Thực hiện các việc sau: - Tạo một tuple gồm 4 phần tử. - Thử thay đổi giá trị một phần\n",
    "# tử bất kỳ của tuple vừa tạo\n",
    "x = (\"apple\", \"banana\", \"cherry\")\n",
    "# a('0')= 'lemon'\n",
    "print('không thể thay đổi giá trị của tuple!', x)"
   ]
  },
  {
   "cell_type": "code",
   "execution_count": 29,
   "id": "bdca0c43",
   "metadata": {},
   "outputs": [
    {
     "name": "stdout",
     "output_type": "stream",
     "text": [
      "6\n",
      "Nguyễn An\n",
      "Nguyễn Văn Linh\n"
     ]
    }
   ],
   "source": [
    "# Bài 6: Functions\n",
    "# Viết một hàm tỉnh tổng của một list\n",
    "def tinhtong(a):\n",
    "    ans = 0\n",
    "    for i in a:\n",
    "        ans += i\n",
    "    return ans\n",
    "a = [1,2,3]\n",
    "b = tinhtong(a)\n",
    "print(b)\n",
    "\n",
    "# Định nghĩa một hàm, nhận vào 2 tham số, trong đó có một tham số nhận giá trị mặc định nếu nó\n",
    "# không được truyền vào từ lời gọi hàm\n",
    "def name(a, b = 'An'):\n",
    "    print(a + ' ' + b)\n",
    "name('Nguyễn')\n",
    "name('Nguyễn', 'Văn Linh')\n",
    "    \n",
    "    "
   ]
  },
  {
   "cell_type": "code",
   "execution_count": null,
   "id": "66edc82b",
   "metadata": {},
   "outputs": [],
   "source": []
  }
 ],
 "metadata": {
  "kernelspec": {
   "display_name": "Python 3 (ipykernel)",
   "language": "python",
   "name": "python3"
  },
  "language_info": {
   "codemirror_mode": {
    "name": "ipython",
    "version": 3
   },
   "file_extension": ".py",
   "mimetype": "text/x-python",
   "name": "python",
   "nbconvert_exporter": "python",
   "pygments_lexer": "ipython3",
   "version": "3.8.13"
  }
 },
 "nbformat": 4,
 "nbformat_minor": 5
}
